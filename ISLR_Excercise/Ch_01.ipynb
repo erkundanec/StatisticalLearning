{
 "cells": [
  {
   "cell_type": "code",
   "execution_count": 1,
   "id": "published-gospel",
   "metadata": {},
   "outputs": [
    {
     "data": {
      "text/html": [
       "<ol class=list-inline>\n",
       "\t<li>1</li>\n",
       "\t<li>3</li>\n",
       "\t<li>2</li>\n",
       "\t<li>5</li>\n",
       "</ol>\n"
      ],
      "text/latex": [
       "\\begin{enumerate*}\n",
       "\\item 1\n",
       "\\item 3\n",
       "\\item 2\n",
       "\\item 5\n",
       "\\end{enumerate*}\n"
      ],
      "text/markdown": [
       "1. 1\n",
       "2. 3\n",
       "3. 2\n",
       "4. 5\n",
       "\n",
       "\n"
      ],
      "text/plain": [
       "[1] 1 3 2 5"
      ]
     },
     "metadata": {},
     "output_type": "display_data"
    }
   ],
   "source": [
    "x1 <- c(1,3,2,5)\n",
    "x1"
   ]
  },
  {
   "cell_type": "code",
   "execution_count": 2,
   "id": "featured-contemporary",
   "metadata": {},
   "outputs": [
    {
     "data": {
      "text/html": [
       "<ol class=list-inline>\n",
       "\t<li>1</li>\n",
       "\t<li>6</li>\n",
       "\t<li>2</li>\n",
       "</ol>\n"
      ],
      "text/latex": [
       "\\begin{enumerate*}\n",
       "\\item 1\n",
       "\\item 6\n",
       "\\item 2\n",
       "\\end{enumerate*}\n"
      ],
      "text/markdown": [
       "1. 1\n",
       "2. 6\n",
       "3. 2\n",
       "\n",
       "\n"
      ],
      "text/plain": [
       "[1] 1 6 2"
      ]
     },
     "metadata": {},
     "output_type": "display_data"
    }
   ],
   "source": [
    "x = c(1,6,2)\n",
    "x"
   ]
  },
  {
   "cell_type": "code",
   "execution_count": 3,
   "id": "coordinated-snowboard",
   "metadata": {},
   "outputs": [
    {
     "data": {
      "text/html": [
       "<ol class=list-inline>\n",
       "\t<li>1</li>\n",
       "\t<li>4</li>\n",
       "\t<li>3</li>\n",
       "</ol>\n"
      ],
      "text/latex": [
       "\\begin{enumerate*}\n",
       "\\item 1\n",
       "\\item 4\n",
       "\\item 3\n",
       "\\end{enumerate*}\n"
      ],
      "text/markdown": [
       "1. 1\n",
       "2. 4\n",
       "3. 3\n",
       "\n",
       "\n"
      ],
      "text/plain": [
       "[1] 1 4 3"
      ]
     },
     "metadata": {},
     "output_type": "display_data"
    }
   ],
   "source": [
    "y = c(1,4,3)\n",
    "y"
   ]
  },
  {
   "cell_type": "code",
   "execution_count": 4,
   "id": "consolidated-bread",
   "metadata": {},
   "outputs": [
    {
     "data": {
      "text/html": [
       "3"
      ],
      "text/latex": [
       "3"
      ],
      "text/markdown": [
       "3"
      ],
      "text/plain": [
       "[1] 3"
      ]
     },
     "metadata": {},
     "output_type": "display_data"
    },
    {
     "data": {
      "text/html": [
       "3"
      ],
      "text/latex": [
       "3"
      ],
      "text/markdown": [
       "3"
      ],
      "text/plain": [
       "[1] 3"
      ]
     },
     "metadata": {},
     "output_type": "display_data"
    }
   ],
   "source": [
    "length(x)\n",
    "length(y)"
   ]
  },
  {
   "cell_type": "code",
   "execution_count": 5,
   "id": "leading-necessity",
   "metadata": {},
   "outputs": [
    {
     "data": {
      "text/html": [
       "<ol class=list-inline>\n",
       "\t<li>2</li>\n",
       "\t<li>10</li>\n",
       "\t<li>5</li>\n",
       "</ol>\n"
      ],
      "text/latex": [
       "\\begin{enumerate*}\n",
       "\\item 2\n",
       "\\item 10\n",
       "\\item 5\n",
       "\\end{enumerate*}\n"
      ],
      "text/markdown": [
       "1. 2\n",
       "2. 10\n",
       "3. 5\n",
       "\n",
       "\n"
      ],
      "text/plain": [
       "[1]  2 10  5"
      ]
     },
     "metadata": {},
     "output_type": "display_data"
    }
   ],
   "source": [
    "z = x+y\n",
    "z"
   ]
  },
  {
   "cell_type": "code",
   "execution_count": 6,
   "id": "fifty-damages",
   "metadata": {},
   "outputs": [
    {
     "data": {
      "text/html": [
       "<table>\n",
       "<tbody>\n",
       "\t<tr><td>1</td><td>0</td><td>0</td><td>0</td></tr>\n",
       "\t<tr><td>0</td><td>1</td><td>0</td><td>0</td></tr>\n",
       "\t<tr><td>0</td><td>0</td><td>1</td><td>0</td></tr>\n",
       "\t<tr><td>0</td><td>0</td><td>0</td><td>1</td></tr>\n",
       "</tbody>\n",
       "</table>\n"
      ],
      "text/latex": [
       "\\begin{tabular}{llll}\n",
       "\t 1 & 0 & 0 & 0\\\\\n",
       "\t 0 & 1 & 0 & 0\\\\\n",
       "\t 0 & 0 & 1 & 0\\\\\n",
       "\t 0 & 0 & 0 & 1\\\\\n",
       "\\end{tabular}\n"
      ],
      "text/markdown": [
       "\n",
       "| 1 | 0 | 0 | 0 | \n",
       "| 0 | 1 | 0 | 0 | \n",
       "| 0 | 0 | 1 | 0 | \n",
       "| 0 | 0 | 0 | 1 | \n",
       "\n",
       "\n"
      ],
      "text/plain": [
       "     [,1] [,2] [,3] [,4]\n",
       "[1,] 1    0    0    0   \n",
       "[2,] 0    1    0    0   \n",
       "[3,] 0    0    1    0   \n",
       "[4,] 0    0    0    1   "
      ]
     },
     "metadata": {},
     "output_type": "display_data"
    }
   ],
   "source": [
    "diag(4)  # Identity matrix of dimension 4 (diagonal matrix)"
   ]
  },
  {
   "cell_type": "code",
   "execution_count": 7,
   "id": "medical-newport",
   "metadata": {},
   "outputs": [
    {
     "data": {
      "text/html": [
       "16"
      ],
      "text/latex": [
       "16"
      ],
      "text/markdown": [
       "16"
      ],
      "text/plain": [
       "[1] 16"
      ]
     },
     "metadata": {},
     "output_type": "display_data"
    }
   ],
   "source": [
    "length(diag(4))   # diagnonal matrix and its length (number of elements)"
   ]
  },
  {
   "cell_type": "code",
   "execution_count": 8,
   "id": "pointed-transition",
   "metadata": {},
   "outputs": [],
   "source": [
    "?length    # get help for a function"
   ]
  },
  {
   "cell_type": "code",
   "execution_count": 9,
   "id": "golden-makeup",
   "metadata": {},
   "outputs": [
    {
     "data": {
      "text/html": [
       "86"
      ],
      "text/latex": [
       "86"
      ],
      "text/markdown": [
       "86"
      ],
      "text/plain": [
       "[1] 86"
      ]
     },
     "metadata": {},
     "output_type": "display_data"
    }
   ],
   "source": [
    "length(options())"
   ]
  },
  {
   "cell_type": "code",
   "execution_count": 10,
   "id": "lined-rebate",
   "metadata": {},
   "outputs": [
    {
     "data": {
      "text/html": [
       "3"
      ],
      "text/latex": [
       "3"
      ],
      "text/markdown": [
       "3"
      ],
      "text/plain": [
       "[1] 3"
      ]
     },
     "metadata": {},
     "output_type": "display_data"
    }
   ],
   "source": [
    "length(y ~ x1 + x2 + x3)"
   ]
  },
  {
   "cell_type": "code",
   "execution_count": 11,
   "id": "impressed-black",
   "metadata": {},
   "outputs": [
    {
     "data": {
      "text/html": [
       "3"
      ],
      "text/latex": [
       "3"
      ],
      "text/markdown": [
       "3"
      ],
      "text/plain": [
       "[1] 3"
      ]
     },
     "metadata": {},
     "output_type": "display_data"
    }
   ],
   "source": [
    "length(expression(x, {y <- x^2; y+2}, x^y))"
   ]
  },
  {
   "cell_type": "code",
   "execution_count": 12,
   "id": "opening-fitness",
   "metadata": {},
   "outputs": [
    {
     "data": {
      "text/html": [
       "<ol class=list-inline>\n",
       "\t<li>'x'</li>\n",
       "\t<li>'x1'</li>\n",
       "\t<li>'y'</li>\n",
       "\t<li>'z'</li>\n",
       "</ol>\n"
      ],
      "text/latex": [
       "\\begin{enumerate*}\n",
       "\\item 'x'\n",
       "\\item 'x1'\n",
       "\\item 'y'\n",
       "\\item 'z'\n",
       "\\end{enumerate*}\n"
      ],
      "text/markdown": [
       "1. 'x'\n",
       "2. 'x1'\n",
       "3. 'y'\n",
       "4. 'z'\n",
       "\n",
       "\n"
      ],
      "text/plain": [
       "[1] \"x\"  \"x1\" \"y\"  \"z\" "
      ]
     },
     "metadata": {},
     "output_type": "display_data"
    }
   ],
   "source": [
    "ls()   # look at a list of all the objects such as data and functions"
   ]
  },
  {
   "cell_type": "code",
   "execution_count": 13,
   "id": "hired-ethics",
   "metadata": {},
   "outputs": [],
   "source": [
    "# rm()  # remove variable from environment\n",
    "# rm(x1,y,z)  # remove multiple variable from environment"
   ]
  },
  {
   "cell_type": "code",
   "execution_count": 14,
   "id": "everyday-female",
   "metadata": {},
   "outputs": [
    {
     "data": {
      "text/html": [],
      "text/latex": [],
      "text/markdown": [],
      "text/plain": [
       "character(0)"
      ]
     },
     "metadata": {},
     "output_type": "display_data"
    }
   ],
   "source": [
    "rm(list=ls())  # clear all variable from environment\n",
    "ls()"
   ]
  },
  {
   "cell_type": "markdown",
   "id": "killing-venture",
   "metadata": {},
   "source": [
    "## Matrix creation"
   ]
  },
  {
   "cell_type": "code",
   "execution_count": 15,
   "id": "immediate-welding",
   "metadata": {},
   "outputs": [],
   "source": [
    "?matrix  "
   ]
  },
  {
   "cell_type": "code",
   "execution_count": 16,
   "id": "authorized-prediction",
   "metadata": {},
   "outputs": [
    {
     "data": {
      "text/html": [
       "<table>\n",
       "<tbody>\n",
       "\t<tr><td>NA</td><td>NA</td></tr>\n",
       "\t<tr><td>NA</td><td>NA</td></tr>\n",
       "</tbody>\n",
       "</table>\n"
      ],
      "text/latex": [
       "\\begin{tabular}{ll}\n",
       "\t NA & NA\\\\\n",
       "\t NA & NA\\\\\n",
       "\\end{tabular}\n"
      ],
      "text/markdown": [
       "\n",
       "| NA | NA | \n",
       "| NA | NA | \n",
       "\n",
       "\n"
      ],
      "text/plain": [
       "     [,1] [,2]\n",
       "[1,] NA   NA  \n",
       "[2,] NA   NA  "
      ]
     },
     "metadata": {},
     "output_type": "display_data"
    }
   ],
   "source": [
    "matrix(data = NA, nrow = 2, ncol = 2, byrow = FALSE,\n",
    "       dimnames = NULL)"
   ]
  },
  {
   "cell_type": "code",
   "execution_count": 17,
   "id": "adequate-contract",
   "metadata": {},
   "outputs": [
    {
     "data": {
      "text/html": [
       "<ol class=list-inline>\n",
       "\t<li>2</li>\n",
       "\t<li>2</li>\n",
       "</ol>\n"
      ],
      "text/latex": [
       "\\begin{enumerate*}\n",
       "\\item 2\n",
       "\\item 2\n",
       "\\end{enumerate*}\n"
      ],
      "text/markdown": [
       "1. 2\n",
       "2. 2\n",
       "\n",
       "\n"
      ],
      "text/plain": [
       "[1] 2 2"
      ]
     },
     "metadata": {},
     "output_type": "display_data"
    }
   ],
   "source": [
    "x = c(2,2)\n",
    "x"
   ]
  },
  {
   "cell_type": "code",
   "execution_count": 18,
   "id": "upper-vacation",
   "metadata": {},
   "outputs": [
    {
     "data": {
      "text/html": [
       "<table>\n",
       "<tbody>\n",
       "\t<tr><td>2</td></tr>\n",
       "\t<tr><td>2</td></tr>\n",
       "</tbody>\n",
       "</table>\n"
      ],
      "text/latex": [
       "\\begin{tabular}{l}\n",
       "\t 2\\\\\n",
       "\t 2\\\\\n",
       "\\end{tabular}\n"
      ],
      "text/markdown": [
       "\n",
       "| 2 | \n",
       "| 2 | \n",
       "\n",
       "\n"
      ],
      "text/plain": [
       "     [,1]\n",
       "[1,] 2   \n",
       "[2,] 2   "
      ]
     },
     "metadata": {},
     "output_type": "display_data"
    }
   ],
   "source": [
    "y = as.matrix(x,nrow = 1, ncol = 2,byrow = FALSE)\n",
    "y"
   ]
  },
  {
   "cell_type": "code",
   "execution_count": 19,
   "id": "assured-administrator",
   "metadata": {},
   "outputs": [
    {
     "data": {
      "text/html": [
       "FALSE"
      ],
      "text/latex": [
       "FALSE"
      ],
      "text/markdown": [
       "FALSE"
      ],
      "text/plain": [
       "[1] FALSE"
      ]
     },
     "metadata": {},
     "output_type": "display_data"
    }
   ],
   "source": [
    "is.matrix(x)     # FALSE"
   ]
  },
  {
   "cell_type": "code",
   "execution_count": 20,
   "id": "cooked-source",
   "metadata": {},
   "outputs": [
    {
     "data": {
      "text/html": [
       "TRUE"
      ],
      "text/latex": [
       "TRUE"
      ],
      "text/markdown": [
       "TRUE"
      ],
      "text/plain": [
       "[1] TRUE"
      ]
     },
     "metadata": {},
     "output_type": "display_data"
    }
   ],
   "source": [
    "is.matrix(y)     # FALSE"
   ]
  },
  {
   "cell_type": "code",
   "execution_count": 21,
   "id": "sophisticated-singles",
   "metadata": {},
   "outputs": [
    {
     "data": {
      "text/html": [
       "<table>\n",
       "<tbody>\n",
       "\t<tr><td>1</td><td>3</td></tr>\n",
       "\t<tr><td>2</td><td>4</td></tr>\n",
       "</tbody>\n",
       "</table>\n"
      ],
      "text/latex": [
       "\\begin{tabular}{ll}\n",
       "\t 1 & 3\\\\\n",
       "\t 2 & 4\\\\\n",
       "\\end{tabular}\n"
      ],
      "text/markdown": [
       "\n",
       "| 1 | 3 | \n",
       "| 2 | 4 | \n",
       "\n",
       "\n"
      ],
      "text/plain": [
       "     [,1] [,2]\n",
       "[1,] 1    3   \n",
       "[2,] 2    4   "
      ]
     },
     "metadata": {},
     "output_type": "display_data"
    }
   ],
   "source": [
    "x = matrix(data = c(1,2,3,4) , nrow = 2, ncol = 2)  # by default column wise \"byrow = FALSE\"\n",
    "                                      #   by default R creates matrices by successively filling in columns\n",
    "x"
   ]
  },
  {
   "cell_type": "code",
   "execution_count": 22,
   "id": "successful-seattle",
   "metadata": {},
   "outputs": [
    {
     "data": {
      "text/html": [
       "<table>\n",
       "<tbody>\n",
       "\t<tr><td>1</td><td>2</td></tr>\n",
       "\t<tr><td>3</td><td>4</td></tr>\n",
       "</tbody>\n",
       "</table>\n"
      ],
      "text/latex": [
       "\\begin{tabular}{ll}\n",
       "\t 1 & 2\\\\\n",
       "\t 3 & 4\\\\\n",
       "\\end{tabular}\n"
      ],
      "text/markdown": [
       "\n",
       "| 1 | 2 | \n",
       "| 3 | 4 | \n",
       "\n",
       "\n"
      ],
      "text/plain": [
       "     [,1] [,2]\n",
       "[1,] 1    2   \n",
       "[2,] 3    4   "
      ]
     },
     "metadata": {},
     "output_type": "display_data"
    }
   ],
   "source": [
    "x = matrix (data=c(1,2,3,4) , nrow=2, ncol =2,byrow = TRUE) \n",
    "x"
   ]
  },
  {
   "cell_type": "code",
   "execution_count": 23,
   "id": "published-barcelona",
   "metadata": {},
   "outputs": [
    {
     "data": {
      "text/html": [
       "<table>\n",
       "<tbody>\n",
       "\t<tr><td>1</td><td>3</td></tr>\n",
       "\t<tr><td>2</td><td>4</td></tr>\n",
       "</tbody>\n",
       "</table>\n"
      ],
      "text/latex": [
       "\\begin{tabular}{ll}\n",
       "\t 1 & 3\\\\\n",
       "\t 2 & 4\\\\\n",
       "\\end{tabular}\n"
      ],
      "text/markdown": [
       "\n",
       "| 1 | 3 | \n",
       "| 2 | 4 | \n",
       "\n",
       "\n"
      ],
      "text/plain": [
       "     [,1] [,2]\n",
       "[1,] 1    3   \n",
       "[2,] 2    4   "
      ]
     },
     "metadata": {},
     "output_type": "display_data"
    }
   ],
   "source": [
    "x1=matrix (c(1,2,3,4) ,2,2)  # R consider the default order as function???s help \n",
    "                                 #   file if argument name is not given\n",
    "x1"
   ]
  },
  {
   "cell_type": "code",
   "execution_count": 24,
   "id": "optimum-feature",
   "metadata": {},
   "outputs": [
    {
     "data": {
      "text/html": [
       "<table>\n",
       "<tbody>\n",
       "\t<tr><td>1</td><td>2</td></tr>\n",
       "\t<tr><td>3</td><td>4</td></tr>\n",
       "</tbody>\n",
       "</table>\n"
      ],
      "text/latex": [
       "\\begin{tabular}{ll}\n",
       "\t 1 & 2\\\\\n",
       "\t 3 & 4\\\\\n",
       "\\end{tabular}\n"
      ],
      "text/markdown": [
       "\n",
       "| 1 | 2 | \n",
       "| 3 | 4 | \n",
       "\n",
       "\n"
      ],
      "text/plain": [
       "     [,1] [,2]\n",
       "[1,] 1    2   \n",
       "[2,] 3    4   "
      ]
     },
     "metadata": {},
     "output_type": "display_data"
    }
   ],
   "source": [
    "x1=matrix (c(1,2,3,4) ,2,2,TRUE)  # this is not a good practice\n",
    "x1"
   ]
  },
  {
   "cell_type": "code",
   "execution_count": 25,
   "id": "developed-handbook",
   "metadata": {},
   "outputs": [
    {
     "data": {
      "text/html": [
       "<table>\n",
       "<tbody>\n",
       "\t<tr><td>1</td><td>3</td></tr>\n",
       "\t<tr><td>2</td><td>4</td></tr>\n",
       "</tbody>\n",
       "</table>\n"
      ],
      "text/latex": [
       "\\begin{tabular}{ll}\n",
       "\t 1 & 3\\\\\n",
       "\t 2 & 4\\\\\n",
       "\\end{tabular}\n"
      ],
      "text/markdown": [
       "\n",
       "| 1 | 3 | \n",
       "| 2 | 4 | \n",
       "\n",
       "\n"
      ],
      "text/plain": [
       "     [,1] [,2]\n",
       "[1,] 1    3   \n",
       "[2,] 2    4   "
      ]
     },
     "metadata": {},
     "output_type": "display_data"
    }
   ],
   "source": [
    "matrix (c(1,2,3,4) ,2,2)    #In this case the matrix is printed to the screen \n",
    "                              # but is not saved for future calculations."
   ]
  },
  {
   "cell_type": "code",
   "execution_count": 26,
   "id": "ignored-inclusion",
   "metadata": {},
   "outputs": [
    {
     "data": {
      "text/html": [
       "<table>\n",
       "<tbody>\n",
       "\t<tr><td>1.000000</td><td>1.414214</td></tr>\n",
       "\t<tr><td>1.732051</td><td>2.000000</td></tr>\n",
       "</tbody>\n",
       "</table>\n"
      ],
      "text/latex": [
       "\\begin{tabular}{ll}\n",
       "\t 1.000000 & 1.414214\\\\\n",
       "\t 1.732051 & 2.000000\\\\\n",
       "\\end{tabular}\n"
      ],
      "text/markdown": [
       "\n",
       "| 1.000000 | 1.414214 | \n",
       "| 1.732051 | 2.000000 | \n",
       "\n",
       "\n"
      ],
      "text/plain": [
       "     [,1]     [,2]    \n",
       "[1,] 1.000000 1.414214\n",
       "[2,] 1.732051 2.000000"
      ]
     },
     "metadata": {},
     "output_type": "display_data"
    }
   ],
   "source": [
    "sqrt(x)"
   ]
  },
  {
   "cell_type": "code",
   "execution_count": 27,
   "id": "wound-gilbert",
   "metadata": {},
   "outputs": [
    {
     "data": {
      "text/html": [
       "<table>\n",
       "<tbody>\n",
       "\t<tr><td>1 </td><td> 4</td></tr>\n",
       "\t<tr><td>9 </td><td>16</td></tr>\n",
       "</tbody>\n",
       "</table>\n"
      ],
      "text/latex": [
       "\\begin{tabular}{ll}\n",
       "\t 1  &  4\\\\\n",
       "\t 9  & 16\\\\\n",
       "\\end{tabular}\n"
      ],
      "text/markdown": [
       "\n",
       "| 1  |  4 | \n",
       "| 9  | 16 | \n",
       "\n",
       "\n"
      ],
      "text/plain": [
       "     [,1] [,2]\n",
       "[1,] 1     4  \n",
       "[2,] 9    16  "
      ]
     },
     "metadata": {},
     "output_type": "display_data"
    }
   ],
   "source": [
    "x^2"
   ]
  },
  {
   "cell_type": "code",
   "execution_count": 28,
   "id": "adopted-hypothesis",
   "metadata": {},
   "outputs": [
    {
     "data": {
      "text/html": [
       "<table>\n",
       "<tbody>\n",
       "\t<tr><td> 1.0000  </td><td> 7.999945</td></tr>\n",
       "\t<tr><td>26.9997  </td><td>63.999113</td></tr>\n",
       "</tbody>\n",
       "</table>\n"
      ],
      "text/latex": [
       "\\begin{tabular}{ll}\n",
       "\t  1.0000   &  7.999945\\\\\n",
       "\t 26.9997   & 63.999113\\\\\n",
       "\\end{tabular}\n"
      ],
      "text/markdown": [
       "\n",
       "|  1.0000   |  7.999945 | \n",
       "| 26.9997   | 63.999113 | \n",
       "\n",
       "\n"
      ],
      "text/plain": [
       "     [,1]    [,2]     \n",
       "[1,]  1.0000  7.999945\n",
       "[2,] 26.9997 63.999113"
      ]
     },
     "metadata": {},
     "output_type": "display_data"
    }
   ],
   "source": [
    "x^2.99999"
   ]
  },
  {
   "cell_type": "code",
   "execution_count": 29,
   "id": "aggregate-honolulu",
   "metadata": {},
   "outputs": [
    {
     "data": {
      "text/html": [
       "<table>\n",
       "<tbody>\n",
       "\t<tr><td>1.0000000</td><td>0.2500   </td></tr>\n",
       "\t<tr><td>0.1111111</td><td>0.0625   </td></tr>\n",
       "</tbody>\n",
       "</table>\n"
      ],
      "text/latex": [
       "\\begin{tabular}{ll}\n",
       "\t 1.0000000 & 0.2500   \\\\\n",
       "\t 0.1111111 & 0.0625   \\\\\n",
       "\\end{tabular}\n"
      ],
      "text/markdown": [
       "\n",
       "| 1.0000000 | 0.2500    | \n",
       "| 0.1111111 | 0.0625    | \n",
       "\n",
       "\n"
      ],
      "text/plain": [
       "     [,1]      [,2]  \n",
       "[1,] 1.0000000 0.2500\n",
       "[2,] 0.1111111 0.0625"
      ]
     },
     "metadata": {},
     "output_type": "display_data"
    }
   ],
   "source": [
    "x^-2"
   ]
  },
  {
   "cell_type": "code",
   "execution_count": 30,
   "id": "boxed-cloud",
   "metadata": {},
   "outputs": [
    {
     "data": {
      "text/html": [
       "<ol class=list-inline>\n",
       "\t<li>-0.373564947293966</li>\n",
       "\t<li>0.51670330172512</li>\n",
       "\t<li>1.28645000988396</li>\n",
       "\t<li>-1.45262250279747</li>\n",
       "\t<li>0.0352227116076496</li>\n",
       "\t<li>1.08835952297681</li>\n",
       "\t<li>0.974290783388445</li>\n",
       "\t<li>-0.604098236703679</li>\n",
       "\t<li>0.121875493085024</li>\n",
       "\t<li>0.0931578357524537</li>\n",
       "\t<li>1.30005731781696</li>\n",
       "\t<li>0.128563706292167</li>\n",
       "\t<li>-0.0297939873663702</li>\n",
       "\t<li>-1.01919939466771</li>\n",
       "\t<li>0.237017925136716</li>\n",
       "\t<li>-0.349792364933719</li>\n",
       "\t<li>-0.997843373268216</li>\n",
       "\t<li>-0.86533666969025</li>\n",
       "\t<li>1.36400001070671</li>\n",
       "\t<li>3.26959804260681</li>\n",
       "\t<li>0.301922359853393</li>\n",
       "\t<li>0.73912302437939</li>\n",
       "\t<li>0.825580336970297</li>\n",
       "\t<li>-0.832211171515287</li>\n",
       "\t<li>-0.485487587235411</li>\n",
       "\t<li>0.122537583928974</li>\n",
       "\t<li>0.995321205350803</li>\n",
       "\t<li>-1.76544431451453</li>\n",
       "\t<li>0.56850185663574</li>\n",
       "\t<li>-2.17460148999031</li>\n",
       "</ol>\n"
      ],
      "text/latex": [
       "\\begin{enumerate*}\n",
       "\\item -0.373564947293966\n",
       "\\item 0.51670330172512\n",
       "\\item 1.28645000988396\n",
       "\\item -1.45262250279747\n",
       "\\item 0.0352227116076496\n",
       "\\item 1.08835952297681\n",
       "\\item 0.974290783388445\n",
       "\\item -0.604098236703679\n",
       "\\item 0.121875493085024\n",
       "\\item 0.0931578357524537\n",
       "\\item 1.30005731781696\n",
       "\\item 0.128563706292167\n",
       "\\item -0.0297939873663702\n",
       "\\item -1.01919939466771\n",
       "\\item 0.237017925136716\n",
       "\\item -0.349792364933719\n",
       "\\item -0.997843373268216\n",
       "\\item -0.86533666969025\n",
       "\\item 1.36400001070671\n",
       "\\item 3.26959804260681\n",
       "\\item 0.301922359853393\n",
       "\\item 0.73912302437939\n",
       "\\item 0.825580336970297\n",
       "\\item -0.832211171515287\n",
       "\\item -0.485487587235411\n",
       "\\item 0.122537583928974\n",
       "\\item 0.995321205350803\n",
       "\\item -1.76544431451453\n",
       "\\item 0.56850185663574\n",
       "\\item -2.17460148999031\n",
       "\\end{enumerate*}\n"
      ],
      "text/markdown": [
       "1. -0.373564947293966\n",
       "2. 0.51670330172512\n",
       "3. 1.28645000988396\n",
       "4. -1.45262250279747\n",
       "5. 0.0352227116076496\n",
       "6. 1.08835952297681\n",
       "7. 0.974290783388445\n",
       "8. -0.604098236703679\n",
       "9. 0.121875493085024\n",
       "10. 0.0931578357524537\n",
       "11. 1.30005731781696\n",
       "12. 0.128563706292167\n",
       "13. -0.0297939873663702\n",
       "14. -1.01919939466771\n",
       "15. 0.237017925136716\n",
       "16. -0.349792364933719\n",
       "17. -0.997843373268216\n",
       "18. -0.86533666969025\n",
       "19. 1.36400001070671\n",
       "20. 3.26959804260681\n",
       "21. 0.301922359853393\n",
       "22. 0.73912302437939\n",
       "23. 0.825580336970297\n",
       "24. -0.832211171515287\n",
       "25. -0.485487587235411\n",
       "26. 0.122537583928974\n",
       "27. 0.995321205350803\n",
       "28. -1.76544431451453\n",
       "29. 0.56850185663574\n",
       "30. -2.17460148999031\n",
       "\n",
       "\n"
      ],
      "text/plain": [
       " [1] -0.37356495  0.51670330  1.28645001 -1.45262250  0.03522271  1.08835952\n",
       " [7]  0.97429078 -0.60409824  0.12187549  0.09315784  1.30005732  0.12856371\n",
       "[13] -0.02979399 -1.01919939  0.23701793 -0.34979236 -0.99784337 -0.86533667\n",
       "[19]  1.36400001  3.26959804  0.30192236  0.73912302  0.82558034 -0.83221117\n",
       "[25] -0.48548759  0.12253758  0.99532121 -1.76544431  0.56850186 -2.17460149"
      ]
     },
     "metadata": {},
     "output_type": "display_data"
    }
   ],
   "source": [
    "# If mean or sd are not specified they assume the default values of 0 and 1, respectively.\n",
    "nData = rnorm(30, mean = 0, sd = 1)     # samples generated form normal distribution\n",
    "nData"
   ]
  },
  {
   "cell_type": "code",
   "execution_count": 31,
   "id": "boring-wellington",
   "metadata": {},
   "outputs": [],
   "source": [
    "x=rnorm (50)\n",
    "y=x+rnorm (50, mean=50, sd=.1)"
   ]
  },
  {
   "cell_type": "code",
   "execution_count": 32,
   "id": "spiritual-noise",
   "metadata": {},
   "outputs": [
    {
     "data": {
      "text/html": [
       "0.994341573008776"
      ],
      "text/latex": [
       "0.994341573008776"
      ],
      "text/markdown": [
       "0.994341573008776"
      ],
      "text/plain": [
       "[1] 0.9943416"
      ]
     },
     "metadata": {},
     "output_type": "display_data"
    }
   ],
   "source": [
    "cor(x,y)"
   ]
  },
  {
   "cell_type": "code",
   "execution_count": 33,
   "id": "casual-article",
   "metadata": {},
   "outputs": [
    {
     "data": {
      "text/html": [
       "<ol class=list-inline>\n",
       "\t<li>-1.14397631447974</li>\n",
       "\t<li>1.34212936561501</li>\n",
       "\t<li>2.18539047574276</li>\n",
       "\t<li>0.536392517923731</li>\n",
       "</ol>\n"
      ],
      "text/latex": [
       "\\begin{enumerate*}\n",
       "\\item -1.14397631447974\n",
       "\\item 1.34212936561501\n",
       "\\item 2.18539047574276\n",
       "\\item 0.536392517923731\n",
       "\\end{enumerate*}\n"
      ],
      "text/markdown": [
       "1. -1.14397631447974\n",
       "2. 1.34212936561501\n",
       "3. 2.18539047574276\n",
       "4. 0.536392517923731\n",
       "\n",
       "\n"
      ],
      "text/plain": [
       "[1] -1.1439763  1.3421294  2.1853905  0.5363925"
      ]
     },
     "metadata": {},
     "output_type": "display_data"
    }
   ],
   "source": [
    "set.seed (1303)     # to reproduce the result in random process\n",
    "rnorm(4)"
   ]
  },
  {
   "cell_type": "markdown",
   "id": "saved-blackjack",
   "metadata": {},
   "source": [
    "## Mean and variance calculation"
   ]
  },
  {
   "cell_type": "code",
   "execution_count": 34,
   "id": "heavy-flower",
   "metadata": {},
   "outputs": [],
   "source": [
    "set.seed(3)\n",
    "y=rnorm(100)"
   ]
  },
  {
   "cell_type": "code",
   "execution_count": 35,
   "id": "martial-detroit",
   "metadata": {},
   "outputs": [
    {
     "data": {
      "text/html": [
       "0.0110355710943715"
      ],
      "text/latex": [
       "0.0110355710943715"
      ],
      "text/markdown": [
       "0.0110355710943715"
      ],
      "text/plain": [
       "[1] 0.01103557"
      ]
     },
     "metadata": {},
     "output_type": "display_data"
    }
   ],
   "source": [
    "mean(y)"
   ]
  },
  {
   "cell_type": "code",
   "execution_count": 36,
   "id": "executive-courtesy",
   "metadata": {},
   "outputs": [
    {
     "data": {
      "text/html": [
       "0.732867501277449"
      ],
      "text/latex": [
       "0.732867501277449"
      ],
      "text/markdown": [
       "0.732867501277449"
      ],
      "text/plain": [
       "[1] 0.7328675"
      ]
     },
     "metadata": {},
     "output_type": "display_data"
    }
   ],
   "source": [
    "var(y)"
   ]
  },
  {
   "cell_type": "code",
   "execution_count": 37,
   "id": "daily-substitute",
   "metadata": {},
   "outputs": [
    {
     "data": {
      "text/html": [
       "0.856076808047881"
      ],
      "text/latex": [
       "0.856076808047881"
      ],
      "text/markdown": [
       "0.856076808047881"
      ],
      "text/plain": [
       "[1] 0.8560768"
      ]
     },
     "metadata": {},
     "output_type": "display_data"
    }
   ],
   "source": [
    "sqrt(var(y))"
   ]
  },
  {
   "cell_type": "code",
   "execution_count": 38,
   "id": "compliant-university",
   "metadata": {},
   "outputs": [
    {
     "data": {
      "text/html": [
       "0.856076808047881"
      ],
      "text/latex": [
       "0.856076808047881"
      ],
      "text/markdown": [
       "0.856076808047881"
      ],
      "text/plain": [
       "[1] 0.8560768"
      ]
     },
     "metadata": {},
     "output_type": "display_data"
    }
   ],
   "source": [
    "sd(y)"
   ]
  },
  {
   "cell_type": "markdown",
   "id": "canadian-bones",
   "metadata": {},
   "source": [
    "## Plotting "
   ]
  },
  {
   "cell_type": "code",
   "execution_count": 39,
   "id": "acting-sender",
   "metadata": {},
   "outputs": [
    {
     "data": {
      "image/png": "[encoded data removed]",
      "text/plain": [
       "plot without title"
      ]
     },
     "metadata": {},
     "output_type": "display_data"
    }
   ],
   "source": [
    "x = rnorm(100)\n",
    "y = rnorm(100)\n",
    "plot(x,y)"
   ]
  },
  {
   "cell_type": "code",
   "execution_count": 40,
   "id": "sought-founder",
   "metadata": {},
   "outputs": [
    {
     "data": {
      "image/png": "[encoded data removed]",
      "text/plain": [
       "Plot with title “ Plot of X vs Y”"
      ]
     },
     "metadata": {},
     "output_type": "display_data"
    }
   ],
   "source": [
    "plot(x,y,xlab=\" this is the x-axis\",ylab=\" this is the y-axis\",\n",
    "     main=\" Plot of X vs Y\",asp = 3/2)"
   ]
  },
  {
   "cell_type": "code",
   "execution_count": 41,
   "id": "needed-orchestra",
   "metadata": {},
   "outputs": [
    {
     "data": {
      "text/html": [
       "<strong>pdf:</strong> 2"
      ],
      "text/latex": [
       "\\textbf{pdf:} 2"
      ],
      "text/markdown": [
       "**pdf:** 2"
      ],
      "text/plain": [
       "pdf \n",
       "  2 "
      ]
     },
     "metadata": {},
     "output_type": "display_data"
    }
   ],
   "source": [
    "pdf(\"Figure01.pdf\")\n",
    "# jpeg(\"Figure01.jpeg\")\n",
    "plot(x,y,col =\" green \")\n",
    "dev.off ()"
   ]
  },
  {
   "cell_type": "code",
   "execution_count": 42,
   "id": "inclusive-expense",
   "metadata": {},
   "outputs": [],
   "source": [
    "?plot"
   ]
  },
  {
   "cell_type": "markdown",
   "id": "permanent-illustration",
   "metadata": {},
   "source": [
    "## Vector"
   ]
  },
  {
   "cell_type": "code",
   "execution_count": 44,
   "id": "closed-gathering",
   "metadata": {},
   "outputs": [
    {
     "data": {
      "text/html": [
       "<ol class=list-inline>\n",
       "\t<li>1</li>\n",
       "\t<li>2</li>\n",
       "\t<li>3</li>\n",
       "\t<li>4</li>\n",
       "\t<li>5</li>\n",
       "\t<li>6</li>\n",
       "\t<li>7</li>\n",
       "\t<li>8</li>\n",
       "\t<li>9</li>\n",
       "\t<li>10</li>\n",
       "</ol>\n"
      ],
      "text/latex": [
       "\\begin{enumerate*}\n",
       "\\item 1\n",
       "\\item 2\n",
       "\\item 3\n",
       "\\item 4\n",
       "\\item 5\n",
       "\\item 6\n",
       "\\item 7\n",
       "\\item 8\n",
       "\\item 9\n",
       "\\item 10\n",
       "\\end{enumerate*}\n"
      ],
      "text/markdown": [
       "1. 1\n",
       "2. 2\n",
       "3. 3\n",
       "4. 4\n",
       "5. 5\n",
       "6. 6\n",
       "7. 7\n",
       "8. 8\n",
       "9. 9\n",
       "10. 10\n",
       "\n",
       "\n"
      ],
      "text/plain": [
       " [1]  1  2  3  4  5  6  7  8  9 10"
      ]
     },
     "metadata": {},
     "output_type": "display_data"
    }
   ],
   "source": [
    "x=seq(1,10)\n",
    "x"
   ]
  },
  {
   "cell_type": "code",
   "execution_count": 46,
   "id": "strong-central",
   "metadata": {},
   "outputs": [
    {
     "data": {
      "text/html": [
       "<ol class=list-inline>\n",
       "\t<li>1</li>\n",
       "\t<li>2</li>\n",
       "\t<li>3</li>\n",
       "\t<li>4</li>\n",
       "\t<li>5</li>\n",
       "\t<li>6</li>\n",
       "\t<li>7</li>\n",
       "\t<li>8</li>\n",
       "\t<li>9</li>\n",
       "\t<li>10</li>\n",
       "</ol>\n"
      ],
      "text/latex": [
       "\\begin{enumerate*}\n",
       "\\item 1\n",
       "\\item 2\n",
       "\\item 3\n",
       "\\item 4\n",
       "\\item 5\n",
       "\\item 6\n",
       "\\item 7\n",
       "\\item 8\n",
       "\\item 9\n",
       "\\item 10\n",
       "\\end{enumerate*}\n"
      ],
      "text/markdown": [
       "1. 1\n",
       "2. 2\n",
       "3. 3\n",
       "4. 4\n",
       "5. 5\n",
       "6. 6\n",
       "7. 7\n",
       "8. 8\n",
       "9. 9\n",
       "10. 10\n",
       "\n",
       "\n"
      ],
      "text/plain": [
       " [1]  1  2  3  4  5  6  7  8  9 10"
      ]
     },
     "metadata": {},
     "output_type": "display_data"
    }
   ],
   "source": [
    "y=1:10\n",
    "y"
   ]
  },
  {
   "cell_type": "code",
   "execution_count": 47,
   "id": "rubber-oxford",
   "metadata": {},
   "outputs": [
    {
     "data": {
      "text/html": [
       "<ol class=list-inline>\n",
       "\t<li>-3.14159265358979</li>\n",
       "\t<li>-3.0133643820147</li>\n",
       "\t<li>-2.88513611043961</li>\n",
       "\t<li>-2.75690783886451</li>\n",
       "\t<li>-2.62867956728942</li>\n",
       "\t<li>-2.50045129571433</li>\n",
       "\t<li>-2.37222302413923</li>\n",
       "\t<li>-2.24399475256414</li>\n",
       "\t<li>-2.11576648098904</li>\n",
       "\t<li>-1.98753820941395</li>\n",
       "\t<li>-1.85930993783886</li>\n",
       "\t<li>-1.73108166626376</li>\n",
       "\t<li>-1.60285339468867</li>\n",
       "\t<li>-1.47462512311358</li>\n",
       "\t<li>-1.34639685153848</li>\n",
       "\t<li>-1.21816857996339</li>\n",
       "\t<li>-1.0899403083883</li>\n",
       "\t<li>-0.961712036813202</li>\n",
       "\t<li>-0.833483765238109</li>\n",
       "\t<li>-0.705255493663015</li>\n",
       "\t<li>-0.577027222087922</li>\n",
       "\t<li>-0.448798950512828</li>\n",
       "\t<li>-0.320570678937734</li>\n",
       "\t<li>-0.192342407362641</li>\n",
       "\t<li>-0.064114135787547</li>\n",
       "\t<li>0.0641141357875465</li>\n",
       "\t<li>0.19234240736264</li>\n",
       "\t<li>0.320570678937734</li>\n",
       "\t<li>0.448798950512828</li>\n",
       "\t<li>0.577027222087921</li>\n",
       "\t<li>0.705255493663015</li>\n",
       "\t<li>0.833483765238108</li>\n",
       "\t<li>0.961712036813202</li>\n",
       "\t<li>1.0899403083883</li>\n",
       "\t<li>1.21816857996339</li>\n",
       "\t<li>1.34639685153848</li>\n",
       "\t<li>1.47462512311358</li>\n",
       "\t<li>1.60285339468867</li>\n",
       "\t<li>1.73108166626376</li>\n",
       "\t<li>1.85930993783886</li>\n",
       "\t<li>1.98753820941395</li>\n",
       "\t<li>2.11576648098904</li>\n",
       "\t<li>2.24399475256414</li>\n",
       "\t<li>2.37222302413923</li>\n",
       "\t<li>2.50045129571433</li>\n",
       "\t<li>2.62867956728942</li>\n",
       "\t<li>2.75690783886451</li>\n",
       "\t<li>2.88513611043961</li>\n",
       "\t<li>3.0133643820147</li>\n",
       "\t<li>3.14159265358979</li>\n",
       "</ol>\n"
      ],
      "text/latex": [
       "\\begin{enumerate*}\n",
       "\\item -3.14159265358979\n",
       "\\item -3.0133643820147\n",
       "\\item -2.88513611043961\n",
       "\\item -2.75690783886451\n",
       "\\item -2.62867956728942\n",
       "\\item -2.50045129571433\n",
       "\\item -2.37222302413923\n",
       "\\item -2.24399475256414\n",
       "\\item -2.11576648098904\n",
       "\\item -1.98753820941395\n",
       "\\item -1.85930993783886\n",
       "\\item -1.73108166626376\n",
       "\\item -1.60285339468867\n",
       "\\item -1.47462512311358\n",
       "\\item -1.34639685153848\n",
       "\\item -1.21816857996339\n",
       "\\item -1.0899403083883\n",
       "\\item -0.961712036813202\n",
       "\\item -0.833483765238109\n",
       "\\item -0.705255493663015\n",
       "\\item -0.577027222087922\n",
       "\\item -0.448798950512828\n",
       "\\item -0.320570678937734\n",
       "\\item -0.192342407362641\n",
       "\\item -0.064114135787547\n",
       "\\item 0.0641141357875465\n",
       "\\item 0.19234240736264\n",
       "\\item 0.320570678937734\n",
       "\\item 0.448798950512828\n",
       "\\item 0.577027222087921\n",
       "\\item 0.705255493663015\n",
       "\\item 0.833483765238108\n",
       "\\item 0.961712036813202\n",
       "\\item 1.0899403083883\n",
       "\\item 1.21816857996339\n",
       "\\item 1.34639685153848\n",
       "\\item 1.47462512311358\n",
       "\\item 1.60285339468867\n",
       "\\item 1.73108166626376\n",
       "\\item 1.85930993783886\n",
       "\\item 1.98753820941395\n",
       "\\item 2.11576648098904\n",
       "\\item 2.24399475256414\n",
       "\\item 2.37222302413923\n",
       "\\item 2.50045129571433\n",
       "\\item 2.62867956728942\n",
       "\\item 2.75690783886451\n",
       "\\item 2.88513611043961\n",
       "\\item 3.0133643820147\n",
       "\\item 3.14159265358979\n",
       "\\end{enumerate*}\n"
      ],
      "text/markdown": [
       "1. -3.14159265358979\n",
       "2. -3.0133643820147\n",
       "3. -2.88513611043961\n",
       "4. -2.75690783886451\n",
       "5. -2.62867956728942\n",
       "6. -2.50045129571433\n",
       "7. -2.37222302413923\n",
       "8. -2.24399475256414\n",
       "9. -2.11576648098904\n",
       "10. -1.98753820941395\n",
       "11. -1.85930993783886\n",
       "12. -1.73108166626376\n",
       "13. -1.60285339468867\n",
       "14. -1.47462512311358\n",
       "15. -1.34639685153848\n",
       "16. -1.21816857996339\n",
       "17. -1.0899403083883\n",
       "18. -0.961712036813202\n",
       "19. -0.833483765238109\n",
       "20. -0.705255493663015\n",
       "21. -0.577027222087922\n",
       "22. -0.448798950512828\n",
       "23. -0.320570678937734\n",
       "24. -0.192342407362641\n",
       "25. -0.064114135787547\n",
       "26. 0.0641141357875465\n",
       "27. 0.19234240736264\n",
       "28. 0.320570678937734\n",
       "29. 0.448798950512828\n",
       "30. 0.577027222087921\n",
       "31. 0.705255493663015\n",
       "32. 0.833483765238108\n",
       "33. 0.961712036813202\n",
       "34. 1.0899403083883\n",
       "35. 1.21816857996339\n",
       "36. 1.34639685153848\n",
       "37. 1.47462512311358\n",
       "38. 1.60285339468867\n",
       "39. 1.73108166626376\n",
       "40. 1.85930993783886\n",
       "41. 1.98753820941395\n",
       "42. 2.11576648098904\n",
       "43. 2.24399475256414\n",
       "44. 2.37222302413923\n",
       "45. 2.50045129571433\n",
       "46. 2.62867956728942\n",
       "47. 2.75690783886451\n",
       "48. 2.88513611043961\n",
       "49. 3.0133643820147\n",
       "50. 3.14159265358979\n",
       "\n",
       "\n"
      ],
      "text/plain": [
       " [1] -3.14159265 -3.01336438 -2.88513611 -2.75690784 -2.62867957 -2.50045130\n",
       " [7] -2.37222302 -2.24399475 -2.11576648 -1.98753821 -1.85930994 -1.73108167\n",
       "[13] -1.60285339 -1.47462512 -1.34639685 -1.21816858 -1.08994031 -0.96171204\n",
       "[19] -0.83348377 -0.70525549 -0.57702722 -0.44879895 -0.32057068 -0.19234241\n",
       "[25] -0.06411414  0.06411414  0.19234241  0.32057068  0.44879895  0.57702722\n",
       "[31]  0.70525549  0.83348377  0.96171204  1.08994031  1.21816858  1.34639685\n",
       "[37]  1.47462512  1.60285339  1.73108167  1.85930994  1.98753821  2.11576648\n",
       "[43]  2.24399475  2.37222302  2.50045130  2.62867957  2.75690784  2.88513611\n",
       "[49]  3.01336438  3.14159265"
      ]
     },
     "metadata": {},
     "output_type": "display_data"
    }
   ],
   "source": [
    "x=seq(-pi ,pi ,length =50)\n",
    "x"
   ]
  },
  {
   "cell_type": "markdown",
   "id": "superb-aside",
   "metadata": {},
   "source": [
    "## Contour"
   ]
  },
  {
   "cell_type": "code",
   "execution_count": 48,
   "id": "spiritual-remark",
   "metadata": {},
   "outputs": [
    {
     "data": {
      "image/png": "[encoded data removed]",
      "text/plain": [
       "plot without title"
      ]
     },
     "metadata": {},
     "output_type": "display_data"
    }
   ],
   "source": [
    "y = x\n",
    "f = outer(x,y,function(x,y) cos(y)/(1+x^2))\n",
    "contour (x,y,f)"
   ]
  },
  {
   "cell_type": "code",
   "execution_count": 49,
   "id": "stylish-reasoning",
   "metadata": {},
   "outputs": [
    {
     "ename": "ERROR",
     "evalue": "Error in contour.default(x, y, f, nlevels = 45, add = T): plot.new has not been called yet\n",
     "output_type": "error",
     "traceback": [
      "Error in contour.default(x, y, f, nlevels = 45, add = T): plot.new has not been called yet\nTraceback:\n",
      "1. contour(x, y, f, nlevels = 45, add = T)",
      "2. contour.default(x, y, f, nlevels = 45, add = T)"
     ]
    }
   ],
   "source": [
    "contour (x,y,f,nlevels =45, add=T)"
   ]
  },
  {
   "cell_type": "code",
   "execution_count": 50,
   "id": "technical-courage",
   "metadata": {},
   "outputs": [
    {
     "data": {
      "image/png": "[encoded data removed]",
      "text/plain": [
       "plot without title"
      ]
     },
     "metadata": {},
     "output_type": "display_data"
    }
   ],
   "source": [
    "fa=(f-t(f))/2\n",
    "contour (x,y,fa,nlevels =15)"
   ]
  },
  {
   "cell_type": "code",
   "execution_count": null,
   "id": "martial-running",
   "metadata": {},
   "outputs": [],
   "source": []
  }
 ],
 "metadata": {
  "kernelspec": {
   "display_name": "R",
   "language": "R",
   "name": "ir"
  },
  "language_info": {
   "codemirror_mode": "r",
   "file_extension": ".r",
   "mimetype": "text/x-r-source",
   "name": "R",
   "pygments_lexer": "r",
   "version": "3.5.1"
  }
 },
 "nbformat": 4,
 "nbformat_minor": 5
}
