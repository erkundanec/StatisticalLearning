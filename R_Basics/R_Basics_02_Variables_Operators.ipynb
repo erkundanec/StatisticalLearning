{
 "cells": [
  {
   "cell_type": "markdown",
   "id": "ancient-middle",
   "metadata": {},
   "source": [
    "# R-variables\n",
    "\n",
    "A variable provides us with named storage that our programs can manipulate. A variable in R can store an atomic vector, group of atomic vectors or a combination of many Robjects. A valid variable name consists of letters, numbers and the dot or underline characters. The variable name starts with a letter or the dot not followed by a number."
   ]
  },
  {
   "cell_type": "markdown",
   "id": "latter-latex",
   "metadata": {},
   "source": [
    "|Variable Name|\tValidity|\tReason|\n",
    "|--------------|-------------|---------------------|\n",
    "|var_name2. |valid\t|Has letters, numbers, dot and underscore|\n",
    "|var_name%\t|Invalid|\tHas the character '%'. Only dot(.) and underscore allowed.\n",
    "|2var_name\t|invalid|\tStarts with a number|\n",
    "|.var_name, var.name|valid|\tCan start with a dot(.) but the dot(.)should not be followed by a number.|\n",
    "|.2var_name|\tinvalid|\tThe starting dot is followed by a number making it invalid.|\n",
    "|_var_name\t|invalid|\tStarts with _ which is not valid|"
   ]
  },
  {
   "cell_type": "markdown",
   "id": "choice-heather",
   "metadata": {},
   "source": [
    "## Variable Assignment\n",
    "The variables can be assigned values using leftward, rightward and equal to operator. The values of the variables can be printed using print() or cat() function. The cat() function combines multiple items into a continuous print output."
   ]
  },
  {
   "cell_type": "code",
   "execution_count": 2,
   "id": "decimal-programming",
   "metadata": {},
   "outputs": [
    {
     "name": "stdout",
     "output_type": "stream",
     "text": [
      "[1] 0 1 2 3\n",
      "var.1 is  0 1 2 3 \n",
      "var.2 is  learn R \n",
      "var.3 is  1 1 \n"
     ]
    }
   ],
   "source": [
    "# Assignment using equal operator.\n",
    "var.1 = c(0,1,2,3)           \n",
    "\n",
    "# Assignment using leftward operator.\n",
    "var.2 <- c(\"learn\",\"R\")   \n",
    "\n",
    "# Assignment using rightward operator.   \n",
    "c(TRUE,1) -> var.3           \n",
    "\n",
    "print(var.1)\n",
    "cat (\"var.1 is \", var.1 ,\"\\n\")\n",
    "cat (\"var.2 is \", var.2 ,\"\\n\")\n",
    "cat (\"var.3 is \", var.3 ,\"\\n\")"
   ]
  },
  {
   "cell_type": "markdown",
   "id": "federal-sunglasses",
   "metadata": {},
   "source": [
    "Note − The vector c(TRUE,1) has a mix of logical and numeric class. So logical class is coerced to numeric class making TRUE as 1."
   ]
  },
  {
   "cell_type": "markdown",
   "id": "driving-pendant",
   "metadata": {},
   "source": [
    "## Data Type of a Variable\n",
    "In R, a variable itself is not declared of any data type, rather it gets the data type of the R - object assigned to it. So R is called a dynamically typed language, which means that we can change a variable’s data type of the same variable again and again when using it in a program."
   ]
  },
  {
   "cell_type": "code",
   "execution_count": 4,
   "id": "committed-parking",
   "metadata": {},
   "outputs": [
    {
     "name": "stdout",
     "output_type": "stream",
     "text": [
      "The class of var_x is  character \n",
      "  Now the class of var_x is  numeric \n",
      "   Next the class of var_x becomes  integer \n"
     ]
    }
   ],
   "source": [
    "var_x <- \"Hello\"\n",
    "cat(\"The class of var_x is \",class(var_x),\"\\n\")\n",
    "\n",
    "var_x <- 34.5\n",
    "cat(\"  Now the class of var_x is \",class(var_x),\"\\n\")\n",
    "\n",
    "var_x <- 27L\n",
    "cat(\"   Next the class of var_x becomes \",class(var_x),\"\\n\")"
   ]
  },
  {
   "cell_type": "markdown",
   "id": "progressive-nightlife",
   "metadata": {},
   "source": [
    "## Finding Variables\n",
    "To know all the variables currently available in the workspace we use the ls() function. Also the ls() function can use patterns to match the variable names."
   ]
  },
  {
   "cell_type": "code",
   "execution_count": 6,
   "id": "bronze-accused",
   "metadata": {},
   "outputs": [
    {
     "name": "stdout",
     "output_type": "stream",
     "text": [
      "[1] \"var.1\" \"var.2\" \"var.3\" \"var_x\"\n"
     ]
    }
   ],
   "source": [
    "print(ls())"
   ]
  },
  {
   "cell_type": "markdown",
   "id": "mobile-resource",
   "metadata": {},
   "source": [
    "Note − It is a sample output depending on what variables are declared in your environment.\n",
    "\n",
    "The ls() function can use patterns to match the variable names."
   ]
  },
  {
   "cell_type": "code",
   "execution_count": 7,
   "id": "sweet-discrimination",
   "metadata": {},
   "outputs": [
    {
     "name": "stdout",
     "output_type": "stream",
     "text": [
      "[1] \"var.1\" \"var.2\" \"var.3\" \"var_x\"\n"
     ]
    }
   ],
   "source": [
    "# List the variables starting with the pattern \"var\".\n",
    "print(ls(pattern = \"var\"))  "
   ]
  },
  {
   "cell_type": "markdown",
   "id": "fresh-divide",
   "metadata": {},
   "source": [
    "The variables starting with dot(.) are hidden, they can be listed using \"all.names = TRUE\" argument to ls() function."
   ]
  },
  {
   "cell_type": "code",
   "execution_count": 8,
   "id": "trying-degree",
   "metadata": {},
   "outputs": [
    {
     "name": "stdout",
     "output_type": "stream",
     "text": [
      "[1] \".pbd_env\" \"var.1\"    \"var.2\"    \"var.3\"    \"var_x\"   \n"
     ]
    }
   ],
   "source": [
    "print(ls(all.name = TRUE))"
   ]
  },
  {
   "cell_type": "markdown",
   "id": "objective-disposal",
   "metadata": {},
   "source": [
    "## Deleting Variables\n",
    "Variables can be deleted by using the rm() function. Below we delete the variable var.3. On printing the value of the variable error is thrown."
   ]
  },
  {
   "cell_type": "code",
   "execution_count": 9,
   "id": "sunrise-overhead",
   "metadata": {},
   "outputs": [
    {
     "ename": "ERROR",
     "evalue": "Error in print(var.3): object 'var.3' not found\n",
     "output_type": "error",
     "traceback": [
      "Error in print(var.3): object 'var.3' not found\nTraceback:\n",
      "1. print(var.3)"
     ]
    }
   ],
   "source": [
    "rm(var.3)\n",
    "print(var.3)"
   ]
  },
  {
   "cell_type": "markdown",
   "id": "favorite-quarter",
   "metadata": {},
   "source": [
    "All the variables can be deleted by using the rm() and ls() function together."
   ]
  },
  {
   "cell_type": "code",
   "execution_count": 10,
   "id": "recognized-cannon",
   "metadata": {},
   "outputs": [
    {
     "name": "stdout",
     "output_type": "stream",
     "text": [
      "character(0)\n"
     ]
    }
   ],
   "source": [
    "rm(list = ls())\n",
    "print(ls())"
   ]
  },
  {
   "cell_type": "markdown",
   "id": "pursuant-recorder",
   "metadata": {},
   "source": [
    "# R - Operators\n",
    "An operator is a symbol that tells the compiler to perform specific mathematical or logical manipulations. R language is rich in built-in operators and provides following types of operators.\n",
    "\n",
    "## Types of Operators\n",
    "\n",
    "We have the following types of operators in R programming −\n",
    "\n",
    "- Arithmetic Operators\n",
    "- Relational Operators\n",
    "- Logical Operators\n",
    "- Assignment Operators\n",
    "- Miscellaneous Operators"
   ]
  },
  {
   "cell_type": "markdown",
   "id": "bronze-estate",
   "metadata": {},
   "source": [
    "### Arithmetic Operators\n",
    "Following table shows the arithmetic operators supported by R language. The operators act on each element of the vector."
   ]
  },
  {
   "cell_type": "markdown",
   "id": "cognitive-college",
   "metadata": {},
   "source": [
    "|Operator|\tDescription|\tExample|\n",
    "|--------------|-------------|---------|\n",
    "|+\t|Adds two vectors\t| v <- c( 2,5.5,6) t <- c(8, 3, 4) print(v+t)|\n",
    "|−|\tSubtracts second vector from the first\t|v <- c( 2,5.5,6) t <- c(8, 3, 4) print(v-t)|\n",
    "*\tMultiplies both vectors\t\n",
    "Live Demo\n",
    "v <- c( 2,5.5,6)\n",
    "t <- c(8, 3, 4)\n",
    "print(v*t)\n",
    "it produces the following result −\n",
    "\n",
    "[1] 16.0 16.5 24.0\n",
    "/\tDivide the first vector with the second\t\n",
    "Live Demo\n",
    "v <- c( 2,5.5,6)\n",
    "t <- c(8, 3, 4)\n",
    "print(v/t)\n",
    "When we execute the above code, it produces the following result −\n",
    "\n",
    "[1] 0.250000 1.833333 1.500000\n",
    "%%\tGive the remainder of the first vector with the second\t\n",
    "Live Demo\n",
    "v <- c( 2,5.5,6)\n",
    "t <- c(8, 3, 4)\n",
    "print(v%%t)\n",
    "it produces the following result −\n",
    "\n",
    "[1] 2.0 2.5 2.0\n",
    "%/%\tThe result of division of first vector with second (quotient)\t\n",
    "Live Demo\n",
    "v <- c( 2,5.5,6)\n",
    "t <- c(8, 3, 4)\n",
    "print(v%/%t)\n",
    "it produces the following result −\n",
    "\n",
    "[1] 0 1 1\n",
    "^\tThe first vector raised to the exponent of second vector\t\n",
    "Live Demo\n",
    "v <- c( 2,5.5,6)\n",
    "t <- c(8, 3, 4)\n",
    "print(v^t)\n",
    "it produces the following result −\n",
    "\n",
    "[1]  256.000  166.375 1296.000"
   ]
  },
  {
   "cell_type": "markdown",
   "id": "geological-merit",
   "metadata": {},
   "source": [
    "#### Adds two vectors"
   ]
  },
  {
   "cell_type": "code",
   "execution_count": 11,
   "id": "suitable-listening",
   "metadata": {},
   "outputs": [
    {
     "name": "stdout",
     "output_type": "stream",
     "text": [
      "[1] 10.0  8.5 10.0\n"
     ]
    }
   ],
   "source": [
    "v <- c( 2,5.5,6)\n",
    "t <- c(8, 3, 4)\n",
    "print(v+t)"
   ]
  },
  {
   "cell_type": "markdown",
   "id": "incredible-primary",
   "metadata": {},
   "source": [
    "#### Subtracts second vector from the first"
   ]
  },
  {
   "cell_type": "code",
   "execution_count": 12,
   "id": "realistic-fortune",
   "metadata": {},
   "outputs": [
    {
     "name": "stdout",
     "output_type": "stream",
     "text": [
      "[1] -6.0  2.5  2.0\n"
     ]
    }
   ],
   "source": [
    "v <- c( 2,5.5,6)\n",
    "t <- c(8, 3, 4)\n",
    "print(v-t)"
   ]
  },
  {
   "cell_type": "markdown",
   "id": "gross-collective",
   "metadata": {},
   "source": [
    "#### Multiplies both vectors"
   ]
  },
  {
   "cell_type": "code",
   "execution_count": 13,
   "id": "checked-breathing",
   "metadata": {},
   "outputs": [
    {
     "name": "stdout",
     "output_type": "stream",
     "text": [
      "[1] 16.0 16.5 24.0\n"
     ]
    }
   ],
   "source": [
    "v <- c( 2,5.5,6)\n",
    "t <- c(8, 3, 4)\n",
    "print(v*t)"
   ]
  },
  {
   "cell_type": "markdown",
   "id": "least-deadline",
   "metadata": {},
   "source": [
    "#### Divide the first vector with the second"
   ]
  },
  {
   "cell_type": "code",
   "execution_count": 14,
   "id": "certain-cincinnati",
   "metadata": {},
   "outputs": [
    {
     "name": "stdout",
     "output_type": "stream",
     "text": [
      "[1] 0.250000 1.833333 1.500000\n"
     ]
    }
   ],
   "source": [
    "v <- c( 2,5.5,6)\n",
    "t <- c(8, 3, 4)\n",
    "print(v/t)"
   ]
  },
  {
   "cell_type": "markdown",
   "id": "worthy-scratch",
   "metadata": {},
   "source": [
    "#### Remainder"
   ]
  },
  {
   "cell_type": "code",
   "execution_count": 16,
   "id": "moved-earth",
   "metadata": {},
   "outputs": [
    {
     "name": "stdout",
     "output_type": "stream",
     "text": [
      "[1] 2.0 2.5 2.0\n"
     ]
    }
   ],
   "source": [
    "v <- c( 2,5.5,6)\n",
    "t <- c(8, 3, 4)\n",
    "print(v%%t)"
   ]
  },
  {
   "cell_type": "markdown",
   "id": "direct-statement",
   "metadata": {},
   "source": [
    "#### Quotient"
   ]
  },
  {
   "cell_type": "code",
   "execution_count": 18,
   "id": "urban-values",
   "metadata": {},
   "outputs": [
    {
     "name": "stdout",
     "output_type": "stream",
     "text": [
      "[1] 0 1 1\n"
     ]
    }
   ],
   "source": [
    "v <- c( 2,5.5,6)\n",
    "t <- c(8, 3, 4)\n",
    "print(v%/%t)"
   ]
  },
  {
   "cell_type": "markdown",
   "id": "colonial-frank",
   "metadata": {},
   "source": [
    "#### Exponent"
   ]
  },
  {
   "cell_type": "code",
   "execution_count": 19,
   "id": "downtown-affair",
   "metadata": {},
   "outputs": [
    {
     "name": "stdout",
     "output_type": "stream",
     "text": [
      "[1]  256.000  166.375 1296.000\n"
     ]
    }
   ],
   "source": [
    "v <- c( 2,5.5,6)\n",
    "t <- c(8, 3, 4)\n",
    "print(v^t)"
   ]
  },
  {
   "cell_type": "markdown",
   "id": "permanent-specific",
   "metadata": {},
   "source": [
    "### Relational Operators\n",
    "This section shows the relational operators supported by R language. Each element of the first vector is compared with the corresponding element of the second vector. The result of comparison is a Boolean value."
   ]
  },
  {
   "cell_type": "markdown",
   "id": "failing-zimbabwe",
   "metadata": {},
   "source": [
    "#### > operator"
   ]
  },
  {
   "cell_type": "code",
   "execution_count": 5,
   "id": "norwegian-figure",
   "metadata": {},
   "outputs": [
    {
     "name": "stdout",
     "output_type": "stream",
     "text": [
      "[1] FALSE  TRUE FALSE FALSE\n"
     ]
    }
   ],
   "source": [
    "v <- c(2,5.5,6,9)\n",
    "t <- c(8,2.5,14,9)\n",
    "print(v>t)"
   ]
  },
  {
   "cell_type": "code",
   "execution_count": 6,
   "id": "swiss-bandwidth",
   "metadata": {},
   "outputs": [
    {
     "name": "stdout",
     "output_type": "stream",
     "text": [
      "[1]  TRUE FALSE  TRUE FALSE\n"
     ]
    }
   ],
   "source": [
    "print(v < t)"
   ]
  },
  {
   "cell_type": "code",
   "execution_count": 7,
   "id": "subtle-context",
   "metadata": {},
   "outputs": [
    {
     "name": "stdout",
     "output_type": "stream",
     "text": [
      "[1] FALSE FALSE FALSE  TRUE\n"
     ]
    }
   ],
   "source": [
    "print(v == t)"
   ]
  },
  {
   "cell_type": "code",
   "execution_count": 8,
   "id": "indirect-handling",
   "metadata": {},
   "outputs": [
    {
     "name": "stdout",
     "output_type": "stream",
     "text": [
      "[1]  TRUE FALSE  TRUE  TRUE\n"
     ]
    }
   ],
   "source": [
    "print(v<=t)"
   ]
  },
  {
   "cell_type": "code",
   "execution_count": 9,
   "id": "induced-relay",
   "metadata": {},
   "outputs": [
    {
     "name": "stdout",
     "output_type": "stream",
     "text": [
      "[1] FALSE  TRUE FALSE  TRUE\n"
     ]
    }
   ],
   "source": [
    "print(v>=t)"
   ]
  },
  {
   "cell_type": "code",
   "execution_count": 10,
   "id": "adopted-consortium",
   "metadata": {},
   "outputs": [
    {
     "name": "stdout",
     "output_type": "stream",
     "text": [
      "[1]  TRUE  TRUE  TRUE FALSE\n"
     ]
    }
   ],
   "source": [
    "print(v!=t)"
   ]
  },
  {
   "cell_type": "markdown",
   "id": "vulnerable-bulgarian",
   "metadata": {},
   "source": [
    "### Logical Operators"
   ]
  },
  {
   "cell_type": "markdown",
   "id": "average-musician",
   "metadata": {},
   "source": [
    "This section shows the logical operators supported by R language. It is applicable only to vectors of type logical, numeric or complex. All numbers greater than 1 are considered as logical value TRUE.\n",
    "\n",
    "Each element of the first vector is compared with the corresponding element of the second vector. The result of comparison is a Boolean value."
   ]
  },
  {
   "cell_type": "markdown",
   "id": "appreciated-script",
   "metadata": {},
   "source": [
    "#### Logical AND operator"
   ]
  },
  {
   "cell_type": "code",
   "execution_count": 12,
   "id": "challenging-monitoring",
   "metadata": {},
   "outputs": [
    {
     "name": "stdout",
     "output_type": "stream",
     "text": [
      "[1] 3+0i 1+0i 1+0i 2+3i\n",
      "[1] 4+0i 1+0i 0+0i 2+3i\n",
      "[1]  TRUE  TRUE FALSE  TRUE\n"
     ]
    }
   ],
   "source": [
    "v <- c(3,1,TRUE,2+3i)\n",
    "t <- c(4,1,FALSE,2+3i)\n",
    "print(v)\n",
    "print(t)\n",
    "print(v&t)"
   ]
  },
  {
   "cell_type": "markdown",
   "id": "closed-stranger",
   "metadata": {},
   "source": [
    "#### Logical OR operator"
   ]
  },
  {
   "cell_type": "code",
   "execution_count": 15,
   "id": "improved-lewis",
   "metadata": {},
   "outputs": [
    {
     "name": "stdout",
     "output_type": "stream",
     "text": [
      "[1] TRUE TRUE TRUE TRUE\n"
     ]
    }
   ],
   "source": [
    "print(v|t)"
   ]
  },
  {
   "cell_type": "markdown",
   "id": "announced-brother",
   "metadata": {},
   "source": [
    "#### Logical NOT operator"
   ]
  },
  {
   "cell_type": "code",
   "execution_count": 16,
   "id": "critical-puzzle",
   "metadata": {},
   "outputs": [
    {
     "name": "stdout",
     "output_type": "stream",
     "text": [
      "[1] FALSE FALSE FALSE FALSE\n"
     ]
    }
   ],
   "source": [
    "print(!v)"
   ]
  },
  {
   "cell_type": "markdown",
   "id": "decent-companion",
   "metadata": {},
   "source": [
    "The logical operator && and || considers only the first element of the vectors and give a vector of single element as output."
   ]
  },
  {
   "cell_type": "code",
   "execution_count": 17,
   "id": "above-employer",
   "metadata": {},
   "outputs": [
    {
     "name": "stdout",
     "output_type": "stream",
     "text": [
      "[1] TRUE\n"
     ]
    }
   ],
   "source": [
    "print(v&&t)"
   ]
  },
  {
   "cell_type": "code",
   "execution_count": 18,
   "id": "excessive-stock",
   "metadata": {},
   "outputs": [
    {
     "name": "stdout",
     "output_type": "stream",
     "text": [
      "[1] TRUE\n"
     ]
    }
   ],
   "source": [
    "print(v||t)"
   ]
  },
  {
   "cell_type": "markdown",
   "id": "earlier-backup",
   "metadata": {},
   "source": [
    "### Assignment Operators\n",
    "\n",
    "These operators are used to assign values to vectors."
   ]
  },
  {
   "cell_type": "markdown",
   "id": "classical-interference",
   "metadata": {},
   "source": [
    "#### Called Left Assignment"
   ]
  },
  {
   "cell_type": "code",
   "execution_count": 19,
   "id": "japanese-stuart",
   "metadata": {},
   "outputs": [
    {
     "name": "stdout",
     "output_type": "stream",
     "text": [
      "[1] 3+0i 1+0i 1+0i 2+3i\n",
      "[1] 3+0i 1+0i 1+0i 2+3i\n",
      "[1] 3+0i 1+0i 1+0i 2+3i\n"
     ]
    }
   ],
   "source": [
    "v1 <- c(3,1,TRUE,2+3i)\n",
    "v2 <<- c(3,1,TRUE,2+3i)\n",
    "v3 = c(3,1,TRUE,2+3i)\n",
    "print(v1)\n",
    "print(v2)\n",
    "print(v3)"
   ]
  },
  {
   "cell_type": "markdown",
   "id": "greek-trick",
   "metadata": {},
   "source": [
    "#### Called Right Assignment"
   ]
  },
  {
   "cell_type": "code",
   "execution_count": 20,
   "id": "expected-element",
   "metadata": {},
   "outputs": [
    {
     "name": "stdout",
     "output_type": "stream",
     "text": [
      "[1] 3+0i 1+0i 1+0i 2+3i\n",
      "[1] 3+0i 1+0i 1+0i 2+3i\n"
     ]
    }
   ],
   "source": [
    "c(3,1,TRUE,2+3i) -> v1\n",
    "c(3,1,TRUE,2+3i) ->> v2 \n",
    "print(v1)\n",
    "print(v2)"
   ]
  },
  {
   "cell_type": "markdown",
   "id": "unusual-ukraine",
   "metadata": {},
   "source": [
    "### Miscellaneous Operators\n",
    "These operators are used to for specific purpose and not general mathematical or logical computation."
   ]
  },
  {
   "cell_type": "markdown",
   "id": "junior-middle",
   "metadata": {},
   "source": [
    "#### Colon operator\n",
    "\n",
    "It creates the series of numbers in sequence for a vector."
   ]
  },
  {
   "cell_type": "code",
   "execution_count": 21,
   "id": "reflected-ending",
   "metadata": {},
   "outputs": [
    {
     "name": "stdout",
     "output_type": "stream",
     "text": [
      "[1] 2 3 4 5 6 7 8\n"
     ]
    }
   ],
   "source": [
    "v <- 2:8\n",
    "print(v) "
   ]
  },
  {
   "cell_type": "markdown",
   "id": "quantitative-terrorist",
   "metadata": {},
   "source": [
    "#### %in% operator\n",
    "This operator is used to identify if an element belongs to a vector."
   ]
  },
  {
   "cell_type": "code",
   "execution_count": 22,
   "id": "attached-draft",
   "metadata": {},
   "outputs": [
    {
     "name": "stdout",
     "output_type": "stream",
     "text": [
      "[1] TRUE\n",
      "[1] FALSE\n"
     ]
    }
   ],
   "source": [
    "v1 <- 8\n",
    "v2 <- 12\n",
    "t <- 1:10\n",
    "print(v1 %in% t) \n",
    "print(v2 %in% t)"
   ]
  },
  {
   "cell_type": "markdown",
   "id": "divine-count",
   "metadata": {},
   "source": [
    "#### %*% operator\n",
    "This operator is used to multiply a matrix with its transpose."
   ]
  },
  {
   "cell_type": "code",
   "execution_count": 25,
   "id": "incomplete-allocation",
   "metadata": {},
   "outputs": [
    {
     "name": "stdout",
     "output_type": "stream",
     "text": [
      "     [,1] [,2] [,3]\n",
      "[1,]    2    6    5\n",
      "[2,]    1   10    4\n",
      "     [,1] [,2]\n",
      "[1,]   65   82\n",
      "[2,]   82  117\n"
     ]
    }
   ],
   "source": [
    "M = matrix( c(2,6,5,1,10,4), nrow = 2,ncol = 3,byrow = TRUE)\n",
    "t = M %*% t(M)\n",
    "print(M)\n",
    "print(t)"
   ]
  },
  {
   "cell_type": "code",
   "execution_count": null,
   "id": "magnetic-division",
   "metadata": {},
   "outputs": [],
   "source": []
  }
 ],
 "metadata": {
  "kernelspec": {
   "display_name": "R",
   "language": "R",
   "name": "ir"
  },
  "language_info": {
   "codemirror_mode": "r",
   "file_extension": ".r",
   "mimetype": "text/x-r-source",
   "name": "R",
   "pygments_lexer": "r",
   "version": "3.5.1"
  }
 },
 "nbformat": 4,
 "nbformat_minor": 5
}
