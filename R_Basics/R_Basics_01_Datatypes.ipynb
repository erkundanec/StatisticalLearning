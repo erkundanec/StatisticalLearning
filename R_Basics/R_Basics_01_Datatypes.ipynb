{
 "cells": [
  {
   "cell_type": "markdown",
   "id": "female-welsh",
   "metadata": {},
   "source": [
    "# R Basics\n",
    "## Data Types\n"
   ]
  },
  {
   "cell_type": "markdown",
   "id": "considerable-cartridge",
   "metadata": {},
   "source": [
    "In any programming language, programmers need to store various informations. These informations are stored in a variable for that a reseverd memory locations are assigned. \n",
    "\n",
    "In contrast to other programming languages like C and java in R, the variables are not declared as some data type. The variables are assigned with R-Objects and the data type of the R-object becomes the data type of the variable. There are many types of R-objects. The frequently used ones are −"
   ]
  },
  {
   "cell_type": "markdown",
   "id": "frank-reserve",
   "metadata": {},
   "source": [
    "- Vectors\n",
    "- Lists\n",
    "- Matrices\n",
    "- Arrays\n",
    "- Factors\n",
    "- Data Frames"
   ]
  },
  {
   "cell_type": "markdown",
   "id": "based-consistency",
   "metadata": {},
   "source": [
    "The simplest of these objects is the vector object and there are six data types of these atomic vectors, also termed as six classes of vectors. The other R-Objects are built upon the atomic vectors. \n",
    "\n",
    "NOTE: Please note in R the number of classes is not confined to only the above six types."
   ]
  },
  {
   "cell_type": "markdown",
   "id": "connected-oregon",
   "metadata": {},
   "source": [
    "#### Logical\n",
    "e.g. TRUE, FALSE"
   ]
  },
  {
   "cell_type": "code",
   "execution_count": 1,
   "id": "cubic-referral",
   "metadata": {},
   "outputs": [
    {
     "name": "stdout",
     "output_type": "stream",
     "text": [
      "[1] \"logical\"\n"
     ]
    }
   ],
   "source": [
    "v <- TRUE \n",
    "print(class(v))"
   ]
  },
  {
   "cell_type": "markdown",
   "id": "reflected-trust",
   "metadata": {},
   "source": [
    "#### Numeric\n",
    "e.g. 12.3, 5, 999"
   ]
  },
  {
   "cell_type": "code",
   "execution_count": 2,
   "id": "recognized-intranet",
   "metadata": {},
   "outputs": [
    {
     "name": "stdout",
     "output_type": "stream",
     "text": [
      "[1] \"numeric\"\n"
     ]
    }
   ],
   "source": [
    "v <- 23.5\n",
    "print(class(v))"
   ]
  },
  {
   "cell_type": "markdown",
   "id": "affiliated-separation",
   "metadata": {},
   "source": [
    "#### Integer\n",
    "e.g. 2L, 34L, 0L"
   ]
  },
  {
   "cell_type": "code",
   "execution_count": 3,
   "id": "european-password",
   "metadata": {},
   "outputs": [
    {
     "name": "stdout",
     "output_type": "stream",
     "text": [
      "[1] \"integer\"\n"
     ]
    }
   ],
   "source": [
    "v <- 2L\n",
    "print(class(v))"
   ]
  },
  {
   "cell_type": "markdown",
   "id": "awful-graham",
   "metadata": {},
   "source": [
    "#### Complex\n",
    "e.g. 3 + 2i"
   ]
  },
  {
   "cell_type": "code",
   "execution_count": 4,
   "id": "adverse-london",
   "metadata": {},
   "outputs": [
    {
     "name": "stdout",
     "output_type": "stream",
     "text": [
      "[1] \"complex\"\n"
     ]
    }
   ],
   "source": [
    "v <- 2+5i\n",
    "print(class(v))"
   ]
  },
  {
   "cell_type": "markdown",
   "id": "geographic-trigger",
   "metadata": {},
   "source": [
    "#### Character\n",
    "e.g. 'a' , '\"good\", \"TRUE\", '23.4'"
   ]
  },
  {
   "cell_type": "code",
   "execution_count": 5,
   "id": "handed-precipitation",
   "metadata": {},
   "outputs": [
    {
     "name": "stdout",
     "output_type": "stream",
     "text": [
      "[1] \"character\"\n"
     ]
    }
   ],
   "source": [
    "v <- \"TRUE\"\n",
    "print(class(v))"
   ]
  },
  {
   "cell_type": "markdown",
   "id": "skilled-split",
   "metadata": {},
   "source": [
    "#### Raw\n",
    "e.g. \"Hello\" is stored as 48 65 6c 6c 6f\t"
   ]
  },
  {
   "cell_type": "code",
   "execution_count": 8,
   "id": "still-overview",
   "metadata": {},
   "outputs": [
    {
     "name": "stdout",
     "output_type": "stream",
     "text": [
      "[1] 48 65 6c 6c 6f\n",
      "[1] \"raw\"\n"
     ]
    }
   ],
   "source": [
    "v <- charToRaw(\"Hello\")\n",
    "print(v)\n",
    "print(class(v))"
   ]
  },
  {
   "cell_type": "markdown",
   "id": "amended-metro",
   "metadata": {},
   "source": [
    "## Vector\n",
    "\n"
   ]
  },
  {
   "cell_type": "markdown",
   "id": "opened-calculator",
   "metadata": {},
   "source": [
    "Vectors are the most basic R data objects and there are six types of atomic vectors. They are logical, integer, double, complex, character and raw.\n",
    "\n",
    "Vector Creation\n",
    "Single Element Vector\n",
    "Even when you write just one value in R, it becomes a vector of length 1 and belongs to one of the above vector types."
   ]
  },
  {
   "cell_type": "code",
   "execution_count": 1,
   "id": "fewer-saskatchewan",
   "metadata": {},
   "outputs": [
    {
     "name": "stdout",
     "output_type": "stream",
     "text": [
      "[1] \"abc\"\n",
      "[1] 12.5\n",
      "[1] 63\n",
      "[1] TRUE\n",
      "[1] 2+3i\n",
      "[1] 68 65 6c 6c 6f\n"
     ]
    }
   ],
   "source": [
    "# Atomic vector of type character.\n",
    "print(\"abc\");\n",
    "\n",
    "# Atomic vector of type double.\n",
    "print(12.5)\n",
    "\n",
    "# Atomic vector of type integer.\n",
    "print(63L)\n",
    "\n",
    "# Atomic vector of type logical.\n",
    "print(TRUE)\n",
    "\n",
    "# Atomic vector of type complex.\n",
    "print(2+3i)\n",
    "\n",
    "# Atomic vector of type raw.\n",
    "print(charToRaw('hello'))"
   ]
  },
  {
   "cell_type": "markdown",
   "id": "combined-briefs",
   "metadata": {},
   "source": [
    "### Multiple Elements Vector\n"
   ]
  },
  {
   "cell_type": "markdown",
   "id": "hidden-suite",
   "metadata": {},
   "source": [
    "When you want to create vector with more than one element, you should use `c()` function which means to combine the elements into a vector."
   ]
  },
  {
   "cell_type": "code",
   "execution_count": 10,
   "id": "diverse-stranger",
   "metadata": {},
   "outputs": [
    {
     "name": "stdout",
     "output_type": "stream",
     "text": [
      "[1] \"red\"    \"green\"  \"yellow\"\n",
      "[1] \"character\"\n"
     ]
    }
   ],
   "source": [
    "# Create a vector.\n",
    "apple <- c('red','green',\"yellow\")\n",
    "print(apple)\n",
    "\n",
    "# Get the class of the vector.\n",
    "print(class(apple)) "
   ]
  },
  {
   "cell_type": "markdown",
   "id": "every-semiconductor",
   "metadata": {},
   "source": [
    "Using colon operator with numeric data"
   ]
  },
  {
   "cell_type": "code",
   "execution_count": 2,
   "id": "informed-office",
   "metadata": {},
   "outputs": [
    {
     "name": "stdout",
     "output_type": "stream",
     "text": [
      "[1]  5  6  7  8  9 10 11 12 13\n",
      "[1]  6.6  7.6  8.6  9.6 10.6 11.6 12.6\n",
      "[1]  3.8  4.8  5.8  6.8  7.8  8.8  9.8 10.8\n"
     ]
    }
   ],
   "source": [
    "# Creating a sequence from 5 to 13.\n",
    "v <- 5:13\n",
    "print(v)\n",
    "\n",
    "# Creating a sequence from 6.6 to 12.6.\n",
    "v <- 6.6:12.6\n",
    "print(v)\n",
    "\n",
    "# If the final element specified does not belong to the sequence then it is discarded.\n",
    "v <- 3.8:11.4\n",
    "print(v)"
   ]
  },
  {
   "cell_type": "markdown",
   "id": "cordless-citation",
   "metadata": {},
   "source": [
    "#### Using sequence (`seq.`) operator"
   ]
  },
  {
   "cell_type": "code",
   "execution_count": 3,
   "id": "fixed-contemporary",
   "metadata": {},
   "outputs": [
    {
     "name": "stdout",
     "output_type": "stream",
     "text": [
      " [1] 5.0 5.4 5.8 6.2 6.6 7.0 7.4 7.8 8.2 8.6 9.0\n"
     ]
    }
   ],
   "source": [
    "# Create vector with elements from 5 to 9 incrementing by 0.4.\n",
    "print(seq(5, 9, by = 0.4))"
   ]
  },
  {
   "cell_type": "markdown",
   "id": "sought-interval",
   "metadata": {},
   "source": [
    "#### Using the `c()` function\n",
    "\n",
    "The non-character values are coerced to character type if one of the elements is a character."
   ]
  },
  {
   "cell_type": "code",
   "execution_count": 4,
   "id": "nonprofit-component",
   "metadata": {},
   "outputs": [
    {
     "name": "stdout",
     "output_type": "stream",
     "text": [
      "[1] \"apple\" \"red\"   \"5\"     \"TRUE\" \n"
     ]
    }
   ],
   "source": [
    "# The logical and numeric values are converted to characters.\n",
    "s <- c('apple','red',5,TRUE)\n",
    "print(s)"
   ]
  },
  {
   "cell_type": "markdown",
   "id": "comprehensive-florence",
   "metadata": {},
   "source": [
    "## Accessing Vector Elements\n",
    "Elements of a Vector are accessed using indexing. The [ ] brackets are used for indexing. Indexing starts with position 1. Giving a negative value in the index drops that element from result.TRUE, FALSE or 0 and 1 can also be used for indexing."
   ]
  },
  {
   "cell_type": "code",
   "execution_count": 5,
   "id": "about-boundary",
   "metadata": {},
   "outputs": [
    {
     "name": "stdout",
     "output_type": "stream",
     "text": [
      "[1] \"Mon\" \"Tue\" \"Fri\"\n",
      "[1] \"Sun\" \"Fri\"\n",
      "[1] \"Sun\" \"Tue\" \"Wed\" \"Fri\" \"Sat\"\n",
      "[1] \"Sun\"\n"
     ]
    }
   ],
   "source": [
    "# Accessing vector elements using position.\n",
    "t <- c(\"Sun\",\"Mon\",\"Tue\",\"Wed\",\"Thurs\",\"Fri\",\"Sat\")\n",
    "u <- t[c(2,3,6)]\n",
    "print(u)\n",
    "\n",
    "# Accessing vector elements using logical indexing.\n",
    "v <- t[c(TRUE,FALSE,FALSE,FALSE,FALSE,TRUE,FALSE)]\n",
    "print(v)\n",
    "\n",
    "# Accessing vector elements using negative indexing.\n",
    "x <- t[c(-2,-5)]\n",
    "print(x)\n",
    "\n",
    "# Accessing vector elements using 0/1 indexing.\n",
    "y <- t[c(0,0,0,0,1,0,0)]\n",
    "print(y)"
   ]
  },
  {
   "cell_type": "markdown",
   "id": "running-billion",
   "metadata": {},
   "source": [
    "### Vector Manipulation\n",
    "#### Vector arithmetic\n",
    "Two vectors of same length can be added, subtracted, multiplied or divided giving the result as a vector output."
   ]
  },
  {
   "cell_type": "code",
   "execution_count": 6,
   "id": "earned-popularity",
   "metadata": {},
   "outputs": [
    {
     "name": "stdout",
     "output_type": "stream",
     "text": [
      "[1]  7 19  4 13  1 13\n",
      "[1] -1 -3  4 -3 -1  9\n",
      "[1] 12 88  0 40  0 22\n",
      "[1] 0.7500000 0.7272727       Inf 0.6250000 0.0000000 5.5000000\n"
     ]
    }
   ],
   "source": [
    "# Create two vectors.\n",
    "v1 <- c(3,8,4,5,0,11)\n",
    "v2 <- c(4,11,0,8,1,2)\n",
    "\n",
    "# Vector addition.\n",
    "add.result <- v1+v2\n",
    "print(add.result)\n",
    "\n",
    "# Vector subtraction.\n",
    "sub.result <- v1-v2\n",
    "print(sub.result)\n",
    "\n",
    "# Vector multiplication.\n",
    "multi.result <- v1*v2\n",
    "print(multi.result)\n",
    "\n",
    "# Vector division.\n",
    "divi.result <- v1/v2\n",
    "print(divi.result)"
   ]
  },
  {
   "cell_type": "markdown",
   "id": "executed-chassis",
   "metadata": {},
   "source": [
    "#### Vector Element Recycling\n",
    "If we apply arithmetic operations to two vectors of unequal length, then the elements of the shorter vector are recycled to complete the operations."
   ]
  },
  {
   "cell_type": "code",
   "execution_count": 7,
   "id": "tired-consultation",
   "metadata": {},
   "outputs": [
    {
     "name": "stdout",
     "output_type": "stream",
     "text": [
      "[1]  7 19  8 16  4 22\n",
      "[1] -1 -3  0 -6 -4  0\n"
     ]
    }
   ],
   "source": [
    "v1 <- c(3,8,4,5,0,11)\n",
    "v2 <- c(4,11)\n",
    "# V2 becomes c(4,11,4,11,4,11)\n",
    "\n",
    "add.result <- v1+v2\n",
    "print(add.result)\n",
    "\n",
    "sub.result <- v1-v2\n",
    "print(sub.result)"
   ]
  },
  {
   "cell_type": "markdown",
   "id": "ideal-prairie",
   "metadata": {},
   "source": [
    "#### Vector Element Sorting\n",
    "Elements in a vector can be sorted using the sort() function."
   ]
  },
  {
   "cell_type": "code",
   "execution_count": 11,
   "id": "spare-wichita",
   "metadata": {},
   "outputs": [
    {
     "name": "stdout",
     "output_type": "stream",
     "text": [
      "[1]  -9   0   3   4   5   8  11 304\n",
      "[1] 304  11   8   5   4   3   0  -9\n",
      "[1] \"Blue\"   \"Red\"    \"violet\" \"yellow\" \"yiolet\"\n",
      "[1] \"yiolet\" \"yellow\" \"violet\" \"Red\"    \"Blue\"  \n"
     ]
    }
   ],
   "source": [
    "v <- c(3,8,4,5,0,11, -9, 304)\n",
    "\n",
    "# Sort the elements of the vector.\n",
    "sort.result <- sort(v)\n",
    "print(sort.result)\n",
    "\n",
    "# Sort the elements in the reverse order.\n",
    "revsort.result <- sort(v, decreasing = TRUE)\n",
    "print(revsort.result)\n",
    "\n",
    "# Sorting character vectors.\n",
    "v <- c(\"Red\",\"Blue\",\"yellow\",\"violet\",\"yiolet\")\n",
    "sort.result <- sort(v)\n",
    "print(sort.result)\n",
    "\n",
    "# Sorting character vectors in reverse order.\n",
    "revsort.result <- sort(v, decreasing = TRUE)\n",
    "print(revsort.result)"
   ]
  },
  {
   "cell_type": "markdown",
   "id": "manufactured-substitute",
   "metadata": {},
   "source": [
    "## List\n",
    "\n",
    "Lists are the R objects which contain elements of different types like − numbers, strings, vectors and another list inside it. A list can also contain a matrix or a function as its elements. List is created using `list()` function.\n",
    "\n",
    "### Creating a List\n",
    "Following is an example to create a list containing strings, numbers, vectors and a logical values."
   ]
  },
  {
   "cell_type": "code",
   "execution_count": 12,
   "id": "funny-attempt",
   "metadata": {},
   "outputs": [
    {
     "name": "stdout",
     "output_type": "stream",
     "text": [
      "[[1]]\n",
      "[1] \"Red\"\n",
      "\n",
      "[[2]]\n",
      "[1] \"Green\"\n",
      "\n",
      "[[3]]\n",
      "[1] 21 32 11\n",
      "\n",
      "[[4]]\n",
      "[1] TRUE\n",
      "\n",
      "[[5]]\n",
      "[1] 51.23\n",
      "\n",
      "[[6]]\n",
      "[1] 119.1\n",
      "\n"
     ]
    }
   ],
   "source": [
    "# Create a list containing strings, numbers, vectors and a logical\n",
    "# values.\n",
    "list_data <- list(\"Red\", \"Green\", c(21,32,11), TRUE, 51.23, 119.1)\n",
    "print(list_data)"
   ]
  },
  {
   "cell_type": "code",
   "execution_count": 8,
   "id": "sharp-paper",
   "metadata": {},
   "outputs": [
    {
     "name": "stdout",
     "output_type": "stream",
     "text": [
      "[[1]]\n",
      "[1] 2 5 3\n",
      "\n",
      "[[2]]\n",
      "[1] 21.3\n",
      "\n",
      "[[3]]\n",
      "function (x)  .Primitive(\"sin\")\n",
      "\n"
     ]
    }
   ],
   "source": [
    "# Create a list.\n",
    "list1 <- list(c(2,5,3),21.3,sin)\n",
    "\n",
    "# Print the list.\n",
    "print(list1)"
   ]
  },
  {
   "cell_type": "markdown",
   "id": "supposed-stylus",
   "metadata": {},
   "source": [
    "### Naming List Elements\n",
    "The list elements can be given names and they can be accessed using these names."
   ]
  },
  {
   "cell_type": "code",
   "execution_count": 13,
   "id": "liked-placement",
   "metadata": {},
   "outputs": [
    {
     "name": "stdout",
     "output_type": "stream",
     "text": [
      "$`1st Quarter`\n",
      "[1] \"Jan\" \"Feb\" \"Mar\"\n",
      "\n",
      "$A_Matrix\n",
      "     [,1] [,2] [,3]\n",
      "[1,]    3    5   -2\n",
      "[2,]    9    1    8\n",
      "\n",
      "$`A Inner list`\n",
      "$`A Inner list`[[1]]\n",
      "[1] \"green\"\n",
      "\n",
      "$`A Inner list`[[2]]\n",
      "[1] 12.3\n",
      "\n",
      "\n"
     ]
    }
   ],
   "source": [
    "# Create a list containing a vector, a matrix and a list.\n",
    "list_data <- list(c(\"Jan\",\"Feb\",\"Mar\"), matrix(c(3,9,5,1,-2,8), nrow = 2),\n",
    "   list(\"green\",12.3))\n",
    "\n",
    "# Give names to the elements in the list.\n",
    "names(list_data) <- c(\"1st Quarter\", \"A_Matrix\", \"A Inner list\")\n",
    "\n",
    "# Show the list.\n",
    "print(list_data)"
   ]
  },
  {
   "cell_type": "markdown",
   "id": "ordinary-memphis",
   "metadata": {},
   "source": [
    "### Accessing List Elements\n",
    "Elements of the list can be accessed by the index of the element in the list. In case of named lists it can also be accessed using the names.\n",
    "\n",
    "We continue to use the list in the above example −"
   ]
  },
  {
   "cell_type": "code",
   "execution_count": 14,
   "id": "specified-audience",
   "metadata": {},
   "outputs": [
    {
     "name": "stdout",
     "output_type": "stream",
     "text": [
      "$`1st Quarter`\n",
      "[1] \"Jan\" \"Feb\" \"Mar\"\n",
      "\n",
      "$`A Inner list`\n",
      "$`A Inner list`[[1]]\n",
      "[1] \"green\"\n",
      "\n",
      "$`A Inner list`[[2]]\n",
      "[1] 12.3\n",
      "\n",
      "\n",
      "     [,1] [,2] [,3]\n",
      "[1,]    3    5   -2\n",
      "[2,]    9    1    8\n"
     ]
    }
   ],
   "source": [
    "# Create a list containing a vector, a matrix and a list.\n",
    "list_data <- list(c(\"Jan\",\"Feb\",\"Mar\"), matrix(c(3,9,5,1,-2,8), nrow = 2),\n",
    "   list(\"green\",12.3))\n",
    "\n",
    "# Give names to the elements in the list.\n",
    "names(list_data) <- c(\"1st Quarter\", \"A_Matrix\", \"A Inner list\")\n",
    "\n",
    "# Access the first element of the list.\n",
    "print(list_data[1])\n",
    "\n",
    "# Access the thrid element. As it is also a list, all its elements will be printed.\n",
    "print(list_data[3])\n",
    "\n",
    "# Access the list element using the name of the element.\n",
    "print(list_data$A_Matrix)"
   ]
  },
  {
   "cell_type": "markdown",
   "id": "piano-parish",
   "metadata": {},
   "source": [
    "### Manipulating List Elements\n",
    "We can add, delete and update list elements as shown below. We can add and delete elements only at the end of a list. But we can update any element."
   ]
  },
  {
   "cell_type": "code",
   "execution_count": 15,
   "id": "american-stock",
   "metadata": {},
   "outputs": [
    {
     "name": "stdout",
     "output_type": "stream",
     "text": [
      "[[1]]\n",
      "[1] \"New element\"\n",
      "\n",
      "$<NA>\n",
      "NULL\n",
      "\n",
      "$`A Inner list`\n",
      "[1] \"updated element\"\n",
      "\n"
     ]
    }
   ],
   "source": [
    "# Create a list containing a vector, a matrix and a list.\n",
    "list_data <- list(c(\"Jan\",\"Feb\",\"Mar\"), matrix(c(3,9,5,1,-2,8), nrow = 2),\n",
    "   list(\"green\",12.3))\n",
    "\n",
    "# Give names to the elements in the list.\n",
    "names(list_data) <- c(\"1st Quarter\", \"A_Matrix\", \"A Inner list\")\n",
    "\n",
    "# Add element at the end of the list.\n",
    "list_data[4] <- \"New element\"\n",
    "print(list_data[4])\n",
    "\n",
    "# Remove the last element.\n",
    "list_data[4] <- NULL\n",
    "\n",
    "# Print the 4th Element.\n",
    "print(list_data[4])\n",
    "\n",
    "# Update the 3rd Element.\n",
    "list_data[3] <- \"updated element\"\n",
    "print(list_data[3])"
   ]
  },
  {
   "cell_type": "markdown",
   "id": "numeric-middle",
   "metadata": {},
   "source": [
    "### Merging Lists\n",
    "You can merge many lists into one list by placing all the lists inside one list() function."
   ]
  },
  {
   "cell_type": "code",
   "execution_count": 16,
   "id": "advised-apparel",
   "metadata": {},
   "outputs": [
    {
     "name": "stdout",
     "output_type": "stream",
     "text": [
      "[[1]]\n",
      "[1] 1\n",
      "\n",
      "[[2]]\n",
      "[1] 2\n",
      "\n",
      "[[3]]\n",
      "[1] 3\n",
      "\n",
      "[[4]]\n",
      "[1] \"Sun\"\n",
      "\n",
      "[[5]]\n",
      "[1] \"Mon\"\n",
      "\n",
      "[[6]]\n",
      "[1] \"Tue\"\n",
      "\n"
     ]
    }
   ],
   "source": [
    "# Create two lists.\n",
    "list1 <- list(1,2,3)\n",
    "list2 <- list(\"Sun\",\"Mon\",\"Tue\")\n",
    "\n",
    "# Merge the two lists.\n",
    "merged.list <- c(list1,list2)\n",
    "\n",
    "# Print the merged list.\n",
    "print(merged.list)"
   ]
  },
  {
   "cell_type": "markdown",
   "id": "disabled-faith",
   "metadata": {},
   "source": [
    "### Converting List to Vector\n",
    "A list can be converted to a vector so that the elements of the vector can be used for further manipulation. All the arithmetic operations on vectors can be applied after the list is converted into vectors. To do this conversion, we use the unlist() function. It takes the list as input and produces a vector."
   ]
  },
  {
   "cell_type": "code",
   "execution_count": 17,
   "id": "charitable-exclusion",
   "metadata": {},
   "outputs": [
    {
     "name": "stdout",
     "output_type": "stream",
     "text": [
      "[[1]]\n",
      "[1] 1 2 3 4 5\n",
      "\n",
      "[[1]]\n",
      "[1] 10 11 12 13 14\n",
      "\n",
      "[1] 1 2 3 4 5\n",
      "[1] 10 11 12 13 14\n",
      "[1] 11 13 15 17 19\n"
     ]
    }
   ],
   "source": [
    "# Create lists.\n",
    "list1 <- list(1:5)\n",
    "print(list1)\n",
    "\n",
    "list2 <- list(10:14)\n",
    "print(list2)\n",
    "\n",
    "# Convert the lists to vectors.\n",
    "v1 <- unlist(list1)\n",
    "v2 <- unlist(list2)\n",
    "\n",
    "print(v1)\n",
    "print(v2)\n",
    "\n",
    "# Now add the vectors\n",
    "result <- v1+v2\n",
    "print(result)"
   ]
  },
  {
   "cell_type": "markdown",
   "id": "antique-residence",
   "metadata": {},
   "source": [
    "## Matrices\n",
    "\n",
    "A matrix is a two-dimensional rectangular data set. It can be created using a vector input to the matrix function.\n",
    "\n",
    "Matrices are the R objects in which the elements are arranged in a two-dimensional rectangular layout. They contain elements of the same atomic types. Though we can create a matrix containing only characters or only logical values, they are not of much use. We use matrices containing numeric elements to be used in mathematical calculations.\n",
    "\n",
    "A Matrix is created using the `matrix()` function.\n",
    "\n",
    "**Syntax**\n",
    "\n",
    "The basic syntax for creating a matrix in R is −"
   ]
  },
  {
   "cell_type": "markdown",
   "id": "loved-differential",
   "metadata": {},
   "source": [
    "```matrix(data, nrow, ncol, byrow, dimnames)```"
   ]
  },
  {
   "cell_type": "markdown",
   "id": "south-former",
   "metadata": {},
   "source": [
    "Following is the description of the parameters used −\n",
    "\n",
    "- `data` is the input vector which becomes the data elements of the matrix.\n",
    "\n",
    "- `nrow` is the number of rows to be created.\n",
    "\n",
    "- `ncol` is the number of columns to be created.\n",
    "\n",
    "- `byrow` is a logical clue. If TRUE then the input vector elements are arranged by row.\n",
    "\n",
    "- `dimname` is the names assigned to the rows and columns."
   ]
  },
  {
   "cell_type": "code",
   "execution_count": 4,
   "id": "about-atlas",
   "metadata": {},
   "outputs": [
    {
     "name": "stdout",
     "output_type": "stream",
     "text": [
      "     [,1] [,2] [,3]\n",
      "[1,] \"a\"  \"a\"  \"b\" \n",
      "[2,] \"c\"  \"b\"  \"a\" \n"
     ]
    }
   ],
   "source": [
    "# Create a matrix.\n",
    "M = matrix( c('a','a','b','c','b','a'), nrow = 2, ncol = 3, byrow = TRUE)\n",
    "print(M)"
   ]
  },
  {
   "cell_type": "code",
   "execution_count": 19,
   "id": "incorrect-stand",
   "metadata": {},
   "outputs": [
    {
     "name": "stdout",
     "output_type": "stream",
     "text": [
      "     [,1] [,2] [,3]\n",
      "[1,]    3    4    5\n",
      "[2,]    6    7    8\n",
      "[3,]    9   10   11\n",
      "[4,]   12   13   14\n",
      "     [,1] [,2] [,3]\n",
      "[1,]    3    7   11\n",
      "[2,]    4    8   12\n",
      "[3,]    5    9   13\n",
      "[4,]    6   10   14\n",
      "     col1 col2 col3\n",
      "row1    3    4    5\n",
      "row2    6    7    8\n",
      "row3    9   10   11\n",
      "row4   12   13   14\n"
     ]
    }
   ],
   "source": [
    "# Elements are arranged sequentially by row.\n",
    "M <- matrix(c(3:14), nrow = 4, byrow = TRUE)\n",
    "print(M)\n",
    "\n",
    "# Elements are arranged sequentially by column.\n",
    "N <- matrix(c(3:14), nrow = 4, byrow = FALSE)\n",
    "print(N)\n",
    "\n",
    "# Define the column and row names.\n",
    "rownames = c(\"row1\", \"row2\", \"row3\", \"row4\")\n",
    "colnames = c(\"col1\", \"col2\", \"col3\")\n",
    "\n",
    "P <- matrix(c(3:14), nrow = 4, byrow = TRUE, dimnames = list(rownames, colnames))\n",
    "print(P)"
   ]
  },
  {
   "cell_type": "markdown",
   "id": "regulation-cambridge",
   "metadata": {},
   "source": [
    "## Accessing Elements of a Matrix\n",
    "Elements of a matrix can be accessed by using the column and row index of the element. We consider the matrix P above to find the specific elements below."
   ]
  },
  {
   "cell_type": "code",
   "execution_count": 21,
   "id": "stuck-forty",
   "metadata": {},
   "outputs": [
    {
     "name": "stdout",
     "output_type": "stream",
     "text": [
      "[1] 5\n",
      "[1] 13\n",
      "col1 col2 col3 \n",
      "   6    7    8 \n",
      "row1 row2 row3 row4 \n",
      "   5    8   11   14 \n"
     ]
    }
   ],
   "source": [
    "# Define the column and row names.\n",
    "rownames = c(\"row1\", \"row2\", \"row3\", \"row4\")\n",
    "colnames = c(\"col1\", \"col2\", \"col3\")\n",
    "\n",
    "# Create the matrix.\n",
    "P <- matrix(c(3:14), nrow = 4, byrow = TRUE, dimnames = list(rownames, colnames))\n",
    "\n",
    "# Access the element at 3rd column and 1st row.\n",
    "print(P[1,3])\n",
    "\n",
    "# Access the element at 2nd column and 4th row.\n",
    "print(P[4,2])\n",
    "\n",
    "# Access only the  2nd row.\n",
    "print(P[2,])\n",
    "\n",
    "# Access only the 3rd column.\n",
    "print(P[,3])"
   ]
  },
  {
   "cell_type": "markdown",
   "id": "professional-attempt",
   "metadata": {},
   "source": [
    "## Matrix Computations\n",
    "Various mathematical operations are performed on the matrices using the R operators. The result of the operation is also a matrix.\n",
    "\n",
    "The dimensions (number of rows and columns) should be same for the matrices involved in the operation.\n",
    "\n"
   ]
  },
  {
   "cell_type": "markdown",
   "id": "heard-ready",
   "metadata": {},
   "source": [
    "#### Matrix Addition & Subtraction"
   ]
  },
  {
   "cell_type": "code",
   "execution_count": 22,
   "id": "improved-sheffield",
   "metadata": {},
   "outputs": [
    {
     "name": "stdout",
     "output_type": "stream",
     "text": [
      "     [,1] [,2] [,3]\n",
      "[1,]    3   -1    2\n",
      "[2,]    9    4    6\n",
      "     [,1] [,2] [,3]\n",
      "[1,]    5    0    3\n",
      "[2,]    2    9    4\n",
      "Result of addition \n",
      "     [,1] [,2] [,3]\n",
      "[1,]    8   -1    5\n",
      "[2,]   11   13   10\n",
      "Result of subtraction \n",
      "     [,1] [,2] [,3]\n",
      "[1,]   -2   -1   -1\n",
      "[2,]    7   -5    2\n"
     ]
    }
   ],
   "source": [
    "# Create two 2x3 matrices.\n",
    "matrix1 <- matrix(c(3, 9, -1, 4, 2, 6), nrow = 2)\n",
    "print(matrix1)\n",
    "\n",
    "matrix2 <- matrix(c(5, 2, 0, 9, 3, 4), nrow = 2)\n",
    "print(matrix2)\n",
    "\n",
    "# Add the matrices.\n",
    "result <- matrix1 + matrix2\n",
    "cat(\"Result of addition\",\"\\n\")\n",
    "print(result)\n",
    "\n",
    "# Subtract the matrices\n",
    "result <- matrix1 - matrix2\n",
    "cat(\"Result of subtraction\",\"\\n\")\n",
    "print(result)"
   ]
  },
  {
   "cell_type": "markdown",
   "id": "decent-pocket",
   "metadata": {},
   "source": [
    "#### Matrix Multiplication & Division"
   ]
  },
  {
   "cell_type": "code",
   "execution_count": 23,
   "id": "statewide-chemical",
   "metadata": {},
   "outputs": [
    {
     "name": "stdout",
     "output_type": "stream",
     "text": [
      "     [,1] [,2] [,3]\n",
      "[1,]    3   -1    2\n",
      "[2,]    9    4    6\n",
      "     [,1] [,2] [,3]\n",
      "[1,]    5    0    3\n",
      "[2,]    2    9    4\n",
      "Result of multiplication \n",
      "     [,1] [,2] [,3]\n",
      "[1,]   15    0    6\n",
      "[2,]   18   36   24\n",
      "Result of division \n",
      "     [,1]      [,2]      [,3]\n",
      "[1,]  0.6      -Inf 0.6666667\n",
      "[2,]  4.5 0.4444444 1.5000000\n"
     ]
    }
   ],
   "source": [
    "# Create two 2x3 matrices.\n",
    "matrix1 <- matrix(c(3, 9, -1, 4, 2, 6), nrow = 2)\n",
    "print(matrix1)\n",
    "\n",
    "matrix2 <- matrix(c(5, 2, 0, 9, 3, 4), nrow = 2)\n",
    "print(matrix2)\n",
    "\n",
    "# Multiply the matrices.\n",
    "result <- matrix1 * matrix2\n",
    "cat(\"Result of multiplication\",\"\\n\")\n",
    "print(result)\n",
    "\n",
    "# Divide the matrices\n",
    "result <- matrix1 / matrix2\n",
    "cat(\"Result of division\",\"\\n\")\n",
    "print(result)"
   ]
  },
  {
   "cell_type": "code",
   "execution_count": null,
   "id": "earlier-halloween",
   "metadata": {},
   "outputs": [],
   "source": []
  },
  {
   "cell_type": "code",
   "execution_count": null,
   "id": "standard-warning",
   "metadata": {},
   "outputs": [],
   "source": []
  },
  {
   "cell_type": "code",
   "execution_count": null,
   "id": "separate-mumbai",
   "metadata": {},
   "outputs": [],
   "source": []
  },
  {
   "cell_type": "markdown",
   "id": "fantastic-cleaner",
   "metadata": {},
   "source": [
    "## Arrays\n",
    "\n",
    "While matrices are confined to two dimensions, arrays can be of any number of dimensions. The array function takes a dim attribute which creates the required number of dimension. In the below example we create an array with two elements which are 3x3 matrices each."
   ]
  },
  {
   "cell_type": "code",
   "execution_count": 24,
   "id": "invalid-genre",
   "metadata": {},
   "outputs": [
    {
     "name": "stdout",
     "output_type": "stream",
     "text": [
      ", , 1\n",
      "\n",
      "     [,1]     [,2]     [,3]    \n",
      "[1,] \"green\"  \"yellow\" \"green\" \n",
      "[2,] \"yellow\" \"green\"  \"yellow\"\n",
      "[3,] \"green\"  \"yellow\" \"green\" \n",
      "\n",
      ", , 2\n",
      "\n",
      "     [,1]     [,2]     [,3]    \n",
      "[1,] \"yellow\" \"green\"  \"yellow\"\n",
      "[2,] \"green\"  \"yellow\" \"green\" \n",
      "[3,] \"yellow\" \"green\"  \"yellow\"\n",
      "\n"
     ]
    }
   ],
   "source": [
    "# Create an array.\n",
    "a <- array(c('green','yellow'),dim = c(3,3,2))\n",
    "print(a)"
   ]
  },
  {
   "cell_type": "markdown",
   "id": "adopted-trade",
   "metadata": {},
   "source": [
    "Arrays are the R data objects which can store data in more than two dimensions. For example − If we create an array of dimension (2, 3, 4) then it creates 4 rectangular matrices each with 2 rows and 3 columns. Arrays can store only data type.\n",
    "\n",
    "An array is created using the array() function. It takes vectors as input and uses the values in the dim parameter to create an array."
   ]
  },
  {
   "cell_type": "code",
   "execution_count": 25,
   "id": "unique-tourist",
   "metadata": {},
   "outputs": [
    {
     "name": "stdout",
     "output_type": "stream",
     "text": [
      ", , 1\n",
      "\n",
      "     [,1] [,2] [,3]\n",
      "[1,]    5   10   13\n",
      "[2,]    9   11   14\n",
      "[3,]    3   12   15\n",
      "\n",
      ", , 2\n",
      "\n",
      "     [,1] [,2] [,3]\n",
      "[1,]    5   10   13\n",
      "[2,]    9   11   14\n",
      "[3,]    3   12   15\n",
      "\n"
     ]
    }
   ],
   "source": [
    "# Create two vectors of different lengths.\n",
    "vector1 <- c(5,9,3)\n",
    "vector2 <- c(10,11,12,13,14,15)\n",
    "\n",
    "# Take these vectors as input to the array.\n",
    "result <- array(c(vector1,vector2),dim = c(3,3,2))\n",
    "print(result)"
   ]
  },
  {
   "cell_type": "markdown",
   "id": "humanitarian-netscape",
   "metadata": {},
   "source": [
    "### Naming Columns and Rows\n",
    "We can give names to the rows, columns and matrices in the array by using the dimnames parameter."
   ]
  },
  {
   "cell_type": "code",
   "execution_count": 26,
   "id": "ongoing-microwave",
   "metadata": {},
   "outputs": [
    {
     "name": "stdout",
     "output_type": "stream",
     "text": [
      ", , Matrix1\n",
      "\n",
      "     COL1 COL2 COL3\n",
      "ROW1    5   10   13\n",
      "ROW2    9   11   14\n",
      "ROW3    3   12   15\n",
      "\n",
      ", , Matrix2\n",
      "\n",
      "     COL1 COL2 COL3\n",
      "ROW1    5   10   13\n",
      "ROW2    9   11   14\n",
      "ROW3    3   12   15\n",
      "\n"
     ]
    }
   ],
   "source": [
    "# Create two vectors of different lengths.\n",
    "vector1 <- c(5,9,3)\n",
    "vector2 <- c(10,11,12,13,14,15)\n",
    "column.names <- c(\"COL1\",\"COL2\",\"COL3\")\n",
    "row.names <- c(\"ROW1\",\"ROW2\",\"ROW3\")\n",
    "matrix.names <- c(\"Matrix1\",\"Matrix2\")\n",
    "\n",
    "# Take these vectors as input to the array.\n",
    "result <- array(c(vector1,vector2),dim = c(3,3,2),dimnames = list(row.names,column.names,\n",
    "   matrix.names))\n",
    "print(result)"
   ]
  },
  {
   "cell_type": "markdown",
   "id": "sapphire-holmes",
   "metadata": {},
   "source": [
    "### Accessing Array Elements"
   ]
  },
  {
   "cell_type": "code",
   "execution_count": 28,
   "id": "fixed-round",
   "metadata": {},
   "outputs": [
    {
     "name": "stdout",
     "output_type": "stream",
     "text": [
      "COL1 COL2 COL3 \n",
      "   3   12   15 \n",
      "[1] 13\n",
      "     COL1 COL2 COL3\n",
      "ROW1    5   10   13\n",
      "ROW2    9   11   14\n",
      "ROW3    3   12   15\n"
     ]
    }
   ],
   "source": [
    "# Create two vectors of different lengths.\n",
    "vector1 <- c(5,9,3)\n",
    "vector2 <- c(10,11,12,13,14,15)\n",
    "column.names <- c(\"COL1\",\"COL2\",\"COL3\")\n",
    "row.names <- c(\"ROW1\",\"ROW2\",\"ROW3\")\n",
    "matrix.names <- c(\"Matrix1\",\"Matrix2\")\n",
    "\n",
    "# Take these vectors as input to the array.\n",
    "result <- array(c(vector1,vector2),dim = c(3,3,2),dimnames = list(row.names,\n",
    "   column.names, matrix.names))\n",
    "\n",
    "# Print the third row of the second matrix of the array.\n",
    "print(result[3,,2])\n",
    "\n",
    "# Print the element in the 1st row and 3rd column of the 1st matrix.\n",
    "print(result[1,3,1])\n",
    "\n",
    "# Print the 2nd Matrix.\n",
    "print(result[,,2])"
   ]
  },
  {
   "cell_type": "markdown",
   "id": "laughing-energy",
   "metadata": {},
   "source": [
    "### Manipulating Array Elements\n",
    "As array is made up matrices in multiple dimensions, the operations on elements of array are carried out by accessing elements of the matrices."
   ]
  },
  {
   "cell_type": "code",
   "execution_count": 29,
   "id": "exotic-conversation",
   "metadata": {},
   "outputs": [
    {
     "name": "stdout",
     "output_type": "stream",
     "text": [
      "     [,1] [,2] [,3]\n",
      "[1,]   10   20   26\n",
      "[2,]   18   22   28\n",
      "[3,]    6   24   30\n"
     ]
    }
   ],
   "source": [
    "# Create two vectors of different lengths.\n",
    "vector1 <- c(5,9,3)\n",
    "vector2 <- c(10,11,12,13,14,15)\n",
    "\n",
    "# Take these vectors as input to the array.\n",
    "array1 <- array(c(vector1,vector2),dim = c(3,3,2))\n",
    "\n",
    "# Create two vectors of different lengths.\n",
    "vector3 <- c(9,1,0)\n",
    "vector4 <- c(6,0,11,3,14,1,2,6,9)\n",
    "array2 <- array(c(vector1,vector2),dim = c(3,3,2))\n",
    "\n",
    "# create matrices from these arrays.\n",
    "matrix1 <- array1[,,2]\n",
    "matrix2 <- array2[,,2]\n",
    "\n",
    "# Add the matrices.\n",
    "result <- matrix1+matrix2\n",
    "print(result)"
   ]
  },
  {
   "cell_type": "markdown",
   "id": "inner-symbol",
   "metadata": {},
   "source": [
    "### Calculations Across Array Elements\n",
    "We can do calculations across the elements in an array using the `apply()` function.\n",
    "\n",
    "**Syntax**\n",
    "\n",
    "`apply(x, margin, fun)`\n",
    "\n",
    "Following is the description of the parameters used −\n",
    "\n",
    "- x is an array.\n",
    "\n",
    "- margin is the name of the data set used.\n",
    "\n",
    "- fun is the function to be applied across the elements of the array."
   ]
  },
  {
   "cell_type": "code",
   "execution_count": 30,
   "id": "dressed-latest",
   "metadata": {},
   "outputs": [
    {
     "name": "stdout",
     "output_type": "stream",
     "text": [
      ", , 1\n",
      "\n",
      "     [,1] [,2] [,3]\n",
      "[1,]    5   10   13\n",
      "[2,]    9   11   14\n",
      "[3,]    3   12   15\n",
      "\n",
      ", , 2\n",
      "\n",
      "     [,1] [,2] [,3]\n",
      "[1,]    5   10   13\n",
      "[2,]    9   11   14\n",
      "[3,]    3   12   15\n",
      "\n",
      "[1] 56 68 60\n"
     ]
    }
   ],
   "source": [
    "# Create two vectors of different lengths.\n",
    "vector1 <- c(5,9,3)\n",
    "vector2 <- c(10,11,12,13,14,15)\n",
    "\n",
    "# Take these vectors as input to the array.\n",
    "new.array <- array(c(vector1,vector2),dim = c(3,3,2))\n",
    "print(new.array)\n",
    "\n",
    "# Use apply to calculate the sum of the rows across all the matrices.\n",
    "result <- apply(new.array, c(1), sum)\n",
    "print(result)"
   ]
  },
  {
   "cell_type": "code",
   "execution_count": null,
   "id": "indie-preview",
   "metadata": {},
   "outputs": [],
   "source": []
  },
  {
   "cell_type": "markdown",
   "id": "following-juice",
   "metadata": {},
   "source": [
    "## Factors\n",
    "\n",
    "Factors are the r-objects which are created using a vector. It stores the vector along with the distinct values of the elements in the vector as labels. The labels are always character irrespective of whether it is numeric or character or Boolean etc. in the input vector. They are useful in statistical modeling.\n",
    "\n",
    "Factors are created using the factor() function. The nlevels functions gives the count of levels."
   ]
  },
  {
   "cell_type": "code",
   "execution_count": 31,
   "id": "banner-essay",
   "metadata": {},
   "outputs": [
    {
     "name": "stdout",
     "output_type": "stream",
     "text": [
      "[1] green  green  yellow red    red    red    green \n",
      "Levels: green red yellow\n",
      "[1] 3\n"
     ]
    }
   ],
   "source": [
    "# Create a vector.\n",
    "apple_colors <- c('green','green','yellow','red','red','red','green')\n",
    "\n",
    "# Create a factor object.\n",
    "factor_apple <- factor(apple_colors)\n",
    "\n",
    "# Print the factor.\n",
    "print(factor_apple)\n",
    "print(nlevels(factor_apple))"
   ]
  },
  {
   "cell_type": "markdown",
   "id": "laden-blair",
   "metadata": {},
   "source": [
    "Factors are the data objects which are used to categorize the data and store it as levels. They can store both strings and integers. They are useful in the columns which have a limited number of unique values. Like \"Male, \"Female\" and True, False etc. They are useful in data analysis for statistical modeling.\n",
    "\n",
    "Factors are created using the factor () function by taking a vector as input."
   ]
  },
  {
   "cell_type": "markdown",
   "id": "incorrect-diesel",
   "metadata": {},
   "source": [
    "### Factors in Data Frame\n",
    "On creating any data frame with a column of text data, R treats the text column as categorical data and creates factors on it."
   ]
  },
  {
   "cell_type": "code",
   "execution_count": 32,
   "id": "placed-resource",
   "metadata": {},
   "outputs": [
    {
     "name": "stdout",
     "output_type": "stream",
     "text": [
      "  height weight gender\n",
      "1    132     48   male\n",
      "2    151     49   male\n",
      "3    162     66 female\n",
      "4    139     53 female\n",
      "5    166     67   male\n",
      "6    147     52 female\n",
      "7    122     40   male\n",
      "[1] TRUE\n",
      "[1] male   male   female female male   female male  \n",
      "Levels: female male\n"
     ]
    }
   ],
   "source": [
    "# Create the vectors for data frame.\n",
    "height <- c(132,151,162,139,166,147,122)\n",
    "weight <- c(48,49,66,53,67,52,40)\n",
    "gender <- c(\"male\",\"male\",\"female\",\"female\",\"male\",\"female\",\"male\")\n",
    "\n",
    "# Create the data frame.\n",
    "input_data <- data.frame(height,weight,gender)\n",
    "print(input_data)\n",
    "\n",
    "# Test if the gender column is a factor.\n",
    "print(is.factor(input_data$gender))\n",
    "\n",
    "# Print the gender column so see the levels.\n",
    "print(input_data$gender)\n"
   ]
  },
  {
   "cell_type": "markdown",
   "id": "simplified-government",
   "metadata": {},
   "source": [
    "### Changing the Order of Levels\n",
    "The order of the levels in a factor can be changed by applying the factor function again with new order of the levels."
   ]
  },
  {
   "cell_type": "code",
   "execution_count": 33,
   "id": "attempted-priority",
   "metadata": {},
   "outputs": [
    {
     "name": "stdout",
     "output_type": "stream",
     "text": [
      " [1] East  West  East  North North East  West  West  West  East  North\n",
      "Levels: East North West\n",
      " [1] East  West  East  North North East  West  West  West  East  North\n",
      "Levels: East West North\n"
     ]
    }
   ],
   "source": [
    "data <- c(\"East\",\"West\",\"East\",\"North\",\"North\",\"East\",\"West\",\n",
    "   \"West\",\"West\",\"East\",\"North\")\n",
    "# Create the factors\n",
    "factor_data <- factor(data)\n",
    "print(factor_data)\n",
    "\n",
    "# Apply the factor function with required order of the level.\n",
    "new_order_data <- factor(factor_data,levels = c(\"East\",\"West\",\"North\"))\n",
    "print(new_order_data)"
   ]
  },
  {
   "cell_type": "markdown",
   "id": "welsh-pillow",
   "metadata": {},
   "source": [
    "### Generating Factor Levels\n",
    "We can generate factor levels by using the `gl()` function. It takes two integers as input which indicates how many levels and how many times each level.\n",
    "\n",
    "**Syntax**\n",
    "\n",
    "`gl(n, k, labels)`\n",
    "\n",
    "Following is the description of the parameters used −\n",
    "\n",
    "- n is a integer giving the number of levels.\n",
    "\n",
    "- k is a integer giving the number of replications.\n",
    "\n",
    "- labels is a vector of labels for the resulting factor levels."
   ]
  },
  {
   "cell_type": "code",
   "execution_count": 34,
   "id": "confident-courtesy",
   "metadata": {},
   "outputs": [
    {
     "name": "stdout",
     "output_type": "stream",
     "text": [
      " [1] Tampa   Tampa   Tampa   Tampa   Seattle Seattle Seattle Seattle Boston \n",
      "[10] Boston  Boston  Boston \n",
      "Levels: Tampa Seattle Boston\n"
     ]
    }
   ],
   "source": [
    "v <- gl(3, 4, labels = c(\"Tampa\", \"Seattle\",\"Boston\"))\n",
    "print(v)"
   ]
  },
  {
   "cell_type": "code",
   "execution_count": null,
   "id": "developmental-distribution",
   "metadata": {},
   "outputs": [],
   "source": []
  },
  {
   "cell_type": "markdown",
   "id": "united-lesson",
   "metadata": {},
   "source": [
    "## Data Frames\n",
    "\n",
    "Data frames are tabular data objects. Unlike a matrix in data frame each column can contain different modes of data. The first column can be numeric while the second column can be character and third column can be logical. It is a list of vectors of equal length.\n",
    "\n",
    "A data frame is a table or a two-dimensional array-like structure in which each column contains values of one variable and each row contains one set of values from each column.\n",
    "\n",
    "Following are the characteristics of a data frame.\n",
    "\n",
    "- The column names should be non-empty.\n",
    "- The row names should be unique.\n",
    "- The data stored in a data frame can be of numeric, factor or character type.\n",
    "- Each column should contain same number of data items.\n",
    "\n",
    "Data Frames are created using the `data.frame()` function."
   ]
  },
  {
   "cell_type": "code",
   "execution_count": 7,
   "id": "controversial-transmission",
   "metadata": {},
   "outputs": [
    {
     "name": "stdout",
     "output_type": "stream",
     "text": [
      "  gender height weight Age\n",
      "1   Male  152.0     81  42\n",
      "2   Male  171.5     93  38\n",
      "3 Female  165.0     78  26\n"
     ]
    }
   ],
   "source": [
    "# Create the data frame.\n",
    "BMI <- \tdata.frame(\n",
    "   gender = c(\"Male\", \"Male\",\"Female\"), \n",
    "   height = c(152, 171.5, 165), \n",
    "   weight = c(81,93, 78),\n",
    "   Age = c(42,38,26)\n",
    ")\n",
    "print(BMI)"
   ]
  },
  {
   "cell_type": "markdown",
   "id": "reduced-machine",
   "metadata": {},
   "source": [
    "### Create Data Frame"
   ]
  },
  {
   "cell_type": "code",
   "execution_count": 35,
   "id": "satellite-falls",
   "metadata": {},
   "outputs": [
    {
     "name": "stdout",
     "output_type": "stream",
     "text": [
      "  emp_id emp_name salary start_date\n",
      "1      1     Rick 623.30 2012-01-01\n",
      "2      2      Dan 515.20 2013-09-23\n",
      "3      3 Michelle 611.00 2014-11-15\n",
      "4      4     Ryan 729.00 2014-05-11\n",
      "5      5     Gary 843.25 2015-03-27\n"
     ]
    }
   ],
   "source": [
    "# Create the data frame.\n",
    "emp.data <- data.frame(\n",
    "   emp_id = c (1:5), \n",
    "   emp_name = c(\"Rick\",\"Dan\",\"Michelle\",\"Ryan\",\"Gary\"),\n",
    "   salary = c(623.3,515.2,611.0,729.0,843.25), \n",
    "   \n",
    "   start_date = as.Date(c(\"2012-01-01\", \"2013-09-23\", \"2014-11-15\", \"2014-05-11\",\n",
    "      \"2015-03-27\")),\n",
    "   stringsAsFactors = FALSE\n",
    ")\n",
    "# Print the data frame.\n",
    "print(emp.data) "
   ]
  },
  {
   "cell_type": "markdown",
   "id": "determined-center",
   "metadata": {},
   "source": [
    "### Get the Structure of the Data Frame\n",
    "The structure of the data frame can be seen by using str() function."
   ]
  },
  {
   "cell_type": "code",
   "execution_count": 36,
   "id": "raised-facial",
   "metadata": {},
   "outputs": [
    {
     "name": "stdout",
     "output_type": "stream",
     "text": [
      "'data.frame':\t5 obs. of  4 variables:\n",
      " $ emp_id    : int  1 2 3 4 5\n",
      " $ emp_name  : chr  \"Rick\" \"Dan\" \"Michelle\" \"Ryan\" ...\n",
      " $ salary    : num  623 515 611 729 843\n",
      " $ start_date: Date, format: \"2012-01-01\" \"2013-09-23\" ...\n"
     ]
    }
   ],
   "source": [
    "# Create the data frame.\n",
    "emp.data <- data.frame(\n",
    "   emp_id = c (1:5), \n",
    "   emp_name = c(\"Rick\",\"Dan\",\"Michelle\",\"Ryan\",\"Gary\"),\n",
    "   salary = c(623.3,515.2,611.0,729.0,843.25), \n",
    "   \n",
    "   start_date = as.Date(c(\"2012-01-01\", \"2013-09-23\", \"2014-11-15\", \"2014-05-11\",\n",
    "      \"2015-03-27\")),\n",
    "   stringsAsFactors = FALSE\n",
    ")\n",
    "# Get the structure of the data frame.\n",
    "str(emp.data)"
   ]
  },
  {
   "cell_type": "markdown",
   "id": "infrared-light",
   "metadata": {},
   "source": [
    "### Summary of Data in Data Frame\n",
    "The statistical summary and nature of the data can be obtained by applying summary() function."
   ]
  },
  {
   "cell_type": "code",
   "execution_count": 37,
   "id": "positive-effort",
   "metadata": {},
   "outputs": [
    {
     "name": "stdout",
     "output_type": "stream",
     "text": [
      "     emp_id    emp_name             salary        start_date        \n",
      " Min.   :1   Length:5           Min.   :515.2   Min.   :2012-01-01  \n",
      " 1st Qu.:2   Class :character   1st Qu.:611.0   1st Qu.:2013-09-23  \n",
      " Median :3   Mode  :character   Median :623.3   Median :2014-05-11  \n",
      " Mean   :3                      Mean   :664.4   Mean   :2014-01-14  \n",
      " 3rd Qu.:4                      3rd Qu.:729.0   3rd Qu.:2014-11-15  \n",
      " Max.   :5                      Max.   :843.2   Max.   :2015-03-27  \n"
     ]
    }
   ],
   "source": [
    "# Create the data frame.\n",
    "emp.data <- data.frame(\n",
    "   emp_id = c (1:5), \n",
    "   emp_name = c(\"Rick\",\"Dan\",\"Michelle\",\"Ryan\",\"Gary\"),\n",
    "   salary = c(623.3,515.2,611.0,729.0,843.25), \n",
    "   \n",
    "   start_date = as.Date(c(\"2012-01-01\", \"2013-09-23\", \"2014-11-15\", \"2014-05-11\",\n",
    "      \"2015-03-27\")),\n",
    "   stringsAsFactors = FALSE\n",
    ")\n",
    "# Print the summary.\n",
    "print(summary(emp.data)) "
   ]
  },
  {
   "cell_type": "markdown",
   "id": "turkish-commission",
   "metadata": {},
   "source": [
    "### Extract Data from Data Frame\n",
    "Extract specific column from a data frame using column name."
   ]
  },
  {
   "cell_type": "code",
   "execution_count": 38,
   "id": "consistent-welcome",
   "metadata": {},
   "outputs": [
    {
     "name": "stdout",
     "output_type": "stream",
     "text": [
      "  emp.data.emp_name emp.data.salary\n",
      "1              Rick          623.30\n",
      "2               Dan          515.20\n",
      "3          Michelle          611.00\n",
      "4              Ryan          729.00\n",
      "5              Gary          843.25\n"
     ]
    }
   ],
   "source": [
    "# Create the data frame.\n",
    "emp.data <- data.frame(\n",
    "   emp_id = c (1:5),\n",
    "   emp_name = c(\"Rick\",\"Dan\",\"Michelle\",\"Ryan\",\"Gary\"),\n",
    "   salary = c(623.3,515.2,611.0,729.0,843.25),\n",
    "   \n",
    "   start_date = as.Date(c(\"2012-01-01\",\"2013-09-23\",\"2014-11-15\",\"2014-05-11\",\n",
    "      \"2015-03-27\")),\n",
    "   stringsAsFactors = FALSE\n",
    ")\n",
    "# Extract Specific columns.\n",
    "result <- data.frame(emp.data$emp_name,emp.data$salary)\n",
    "print(result)"
   ]
  },
  {
   "cell_type": "markdown",
   "id": "diagnostic-aircraft",
   "metadata": {},
   "source": [
    "Extract the first two rows and then all columns"
   ]
  },
  {
   "cell_type": "code",
   "execution_count": 39,
   "id": "fallen-tiffany",
   "metadata": {},
   "outputs": [
    {
     "name": "stdout",
     "output_type": "stream",
     "text": [
      "  emp_id emp_name salary start_date\n",
      "1      1     Rick  623.3 2012-01-01\n",
      "2      2      Dan  515.2 2013-09-23\n"
     ]
    }
   ],
   "source": [
    "# Create the data frame.\n",
    "emp.data <- data.frame(\n",
    "   emp_id = c (1:5),\n",
    "   emp_name = c(\"Rick\",\"Dan\",\"Michelle\",\"Ryan\",\"Gary\"),\n",
    "   salary = c(623.3,515.2,611.0,729.0,843.25),\n",
    "   \n",
    "   start_date = as.Date(c(\"2012-01-01\", \"2013-09-23\", \"2014-11-15\", \"2014-05-11\",\n",
    "      \"2015-03-27\")),\n",
    "   stringsAsFactors = FALSE\n",
    ")\n",
    "# Extract first two rows.\n",
    "result <- emp.data[1:2,]\n",
    "print(result)"
   ]
  },
  {
   "cell_type": "markdown",
   "id": "agreed-things",
   "metadata": {},
   "source": [
    "Extract 3rd and 5th row with 2nd and 4th column"
   ]
  },
  {
   "cell_type": "code",
   "execution_count": 40,
   "id": "limited-capability",
   "metadata": {},
   "outputs": [
    {
     "name": "stdout",
     "output_type": "stream",
     "text": [
      "  emp_name start_date\n",
      "3 Michelle 2014-11-15\n",
      "5     Gary 2015-03-27\n"
     ]
    }
   ],
   "source": [
    "# Create the data frame.\n",
    "emp.data <- data.frame(\n",
    "   emp_id = c (1:5), \n",
    "   emp_name = c(\"Rick\",\"Dan\",\"Michelle\",\"Ryan\",\"Gary\"),\n",
    "   salary = c(623.3,515.2,611.0,729.0,843.25), \n",
    "   \n",
    "    start_date = as.Date(c(\"2012-01-01\", \"2013-09-23\", \"2014-11-15\", \"2014-05-11\",\n",
    "      \"2015-03-27\")),\n",
    "   stringsAsFactors = FALSE\n",
    ")\n",
    "\n",
    "# Extract 3rd and 5th row with 2nd and 4th column.\n",
    "result <- emp.data[c(3,5),c(2,4)]\n",
    "print(result)"
   ]
  },
  {
   "cell_type": "markdown",
   "id": "unavailable-given",
   "metadata": {},
   "source": [
    "### Expand Data Frame\n",
    "A data frame can be expanded by adding columns and rows.\n",
    "\n",
    "#### Add Column\n",
    "Just add the column vector using a new column name."
   ]
  },
  {
   "cell_type": "code",
   "execution_count": 41,
   "id": "excellent-classroom",
   "metadata": {},
   "outputs": [
    {
     "name": "stdout",
     "output_type": "stream",
     "text": [
      "  emp_id emp_name salary start_date       dept\n",
      "1      1     Rick 623.30 2012-01-01         IT\n",
      "2      2      Dan 515.20 2013-09-23 Operations\n",
      "3      3 Michelle 611.00 2014-11-15         IT\n",
      "4      4     Ryan 729.00 2014-05-11         HR\n",
      "5      5     Gary 843.25 2015-03-27    Finance\n"
     ]
    }
   ],
   "source": [
    "# Create the data frame.\n",
    "emp.data <- data.frame(\n",
    "   emp_id = c (1:5), \n",
    "   emp_name = c(\"Rick\",\"Dan\",\"Michelle\",\"Ryan\",\"Gary\"),\n",
    "   salary = c(623.3,515.2,611.0,729.0,843.25), \n",
    "   \n",
    "   start_date = as.Date(c(\"2012-01-01\", \"2013-09-23\", \"2014-11-15\", \"2014-05-11\",\n",
    "      \"2015-03-27\")),\n",
    "   stringsAsFactors = FALSE\n",
    ")\n",
    "\n",
    "# Add the \"dept\" coulmn.\n",
    "emp.data$dept <- c(\"IT\",\"Operations\",\"IT\",\"HR\",\"Finance\")\n",
    "v <- emp.data\n",
    "print(v)"
   ]
  },
  {
   "cell_type": "markdown",
   "id": "gorgeous-struggle",
   "metadata": {},
   "source": [
    "#### Add Row\n",
    "To add more rows permanently to an existing data frame, we need to bring in the new rows in the same structure as the existing data frame and use the `rbind()` function.\n",
    "\n",
    "In the example below we create a data frame with new rows and merge it with the existing data frame to create the final data frame."
   ]
  },
  {
   "cell_type": "code",
   "execution_count": 42,
   "id": "expected-wheel",
   "metadata": {},
   "outputs": [
    {
     "name": "stdout",
     "output_type": "stream",
     "text": [
      "  emp_id emp_name salary start_date       dept\n",
      "1      1     Rick 623.30 2012-01-01         IT\n",
      "2      2      Dan 515.20 2013-09-23 Operations\n",
      "3      3 Michelle 611.00 2014-11-15         IT\n",
      "4      4     Ryan 729.00 2014-05-11         HR\n",
      "5      5     Gary 843.25 2015-03-27    Finance\n",
      "6      6    Rasmi 578.00 2013-05-21         IT\n",
      "7      7   Pranab 722.50 2013-07-30 Operations\n",
      "8      8    Tusar 632.80 2014-06-17   Fianance\n"
     ]
    }
   ],
   "source": [
    "# Create the first data frame.\n",
    "emp.data <- data.frame(\n",
    "   emp_id = c (1:5), \n",
    "   emp_name = c(\"Rick\",\"Dan\",\"Michelle\",\"Ryan\",\"Gary\"),\n",
    "   salary = c(623.3,515.2,611.0,729.0,843.25), \n",
    "   \n",
    "   start_date = as.Date(c(\"2012-01-01\", \"2013-09-23\", \"2014-11-15\", \"2014-05-11\",\n",
    "      \"2015-03-27\")),\n",
    "   dept = c(\"IT\",\"Operations\",\"IT\",\"HR\",\"Finance\"),\n",
    "   stringsAsFactors = FALSE\n",
    ")\n",
    "\n",
    "# Create the second data frame\n",
    "emp.newdata <- \tdata.frame(\n",
    "   emp_id = c (6:8), \n",
    "   emp_name = c(\"Rasmi\",\"Pranab\",\"Tusar\"),\n",
    "   salary = c(578.0,722.5,632.8), \n",
    "   start_date = as.Date(c(\"2013-05-21\",\"2013-07-30\",\"2014-06-17\")),\n",
    "   dept = c(\"IT\",\"Operations\",\"Fianance\"),\n",
    "   stringsAsFactors = FALSE\n",
    ")\n",
    "\n",
    "# Bind the two data frames.\n",
    "emp.finaldata <- rbind(emp.data,emp.newdata)\n",
    "print(emp.finaldata)"
   ]
  },
  {
   "cell_type": "code",
   "execution_count": null,
   "id": "scientific-milan",
   "metadata": {},
   "outputs": [],
   "source": []
  }
 ],
 "metadata": {
  "kernelspec": {
   "display_name": "R",
   "language": "R",
   "name": "ir"
  },
  "language_info": {
   "codemirror_mode": "r",
   "file_extension": ".r",
   "mimetype": "text/x-r-source",
   "name": "R",
   "pygments_lexer": "r",
   "version": "3.5.1"
  }
 },
 "nbformat": 4,
 "nbformat_minor": 5
}
