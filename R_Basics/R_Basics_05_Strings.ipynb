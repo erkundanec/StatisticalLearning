{
 "cells": [
  {
   "cell_type": "markdown",
   "id": "smooth-round",
   "metadata": {},
   "source": [
    "# Strings\n",
    "Any value written within a pair of single quote or double quotes in R is treated as a string. Internally R stores every string within double quotes, even when you create them with single quote."
   ]
  },
  {
   "cell_type": "markdown",
   "id": "suffering-douglas",
   "metadata": {},
   "source": [
    "#### Rules Applied in String Construction\n",
    "- The quotes at the beginning and end of a string should be both double quotes or both single quote. They can not be mixed.\n",
    "\n",
    "- Double quotes can be inserted into a string starting and ending with single quote.\n",
    "\n",
    "- Single quote can be inserted into a string starting and ending with double quotes.\n",
    "\n",
    "- Double quotes can not be inserted into a string starting and ending with double quotes.\n",
    "\n",
    "- Single quote can not be inserted into a string starting and ending with single quote."
   ]
  },
  {
   "cell_type": "markdown",
   "id": "western-flavor",
   "metadata": {},
   "source": [
    "#### Examples of Valid Strings\n",
    "Following examples clarify the rules about creating a string in R."
   ]
  },
  {
   "cell_type": "code",
   "execution_count": 1,
   "id": "wired-wilson",
   "metadata": {},
   "outputs": [
    {
     "name": "stdout",
     "output_type": "stream",
     "text": [
      "[1] \"Start and end with single quote\"\n",
      "[1] \"Start and end with double quotes\"\n",
      "[1] \"single quote ' in between double quotes\"\n",
      "[1] \"Double quotes \\\" in between single quote\"\n"
     ]
    }
   ],
   "source": [
    "a <- 'Start and end with single quote'\n",
    "print(a)\n",
    "\n",
    "b <- \"Start and end with double quotes\"\n",
    "print(b)\n",
    "\n",
    "c <- \"single quote ' in between double quotes\"\n",
    "print(c)\n",
    "\n",
    "d <- 'Double quotes \" in between single quote'\n",
    "print(d)"
   ]
  },
  {
   "cell_type": "markdown",
   "id": "experimental-secondary",
   "metadata": {},
   "source": [
    "#### Examples of Invalid Strings"
   ]
  },
  {
   "cell_type": "code",
   "execution_count": 3,
   "id": "inside-surge",
   "metadata": {},
   "outputs": [
    {
     "ename": "ERROR",
     "evalue": "Error in parse(text = x, srcfile = src): <text>:4:7: unexpected symbol\n3: \n4: f <- 'Single\n         ^\n",
     "output_type": "error",
     "traceback": [
      "Error in parse(text = x, srcfile = src): <text>:4:7: unexpected symbol\n3: \n4: f <- 'Single\n         ^\nTraceback:\n"
     ]
    }
   ],
   "source": [
    "e <- 'Mixed quotes\" \n",
    "print(e)\n",
    "\n",
    "f <- 'Single quote ' inside single quote'\n",
    "print(f)\n",
    "\n",
    "g <- \"Double quotes \" inside double quotes\"\n",
    "print(g)"
   ]
  },
  {
   "cell_type": "markdown",
   "id": "sharp-playback",
   "metadata": {},
   "source": [
    "## String Manipulation\n",
    "Concatenating Strings - `paste()` function\n",
    "Many strings in R are combined using the `paste()` function. It can take any number of arguments to be combined together.\n",
    "\n",
    "Syntax\n",
    "The basic syntax for paste function is −\n",
    "\n",
    "```paste(..., sep = \" \", collapse = NULL)```\n",
    "\n",
    "Following is the description of the parameters used −\n",
    "\n",
    "- ... represents any number of arguments to be combined.\n",
    "\n",
    "- `sep` represents any separator between the arguments. It is optional.\n",
    "\n",
    "- collapse is used to eliminate the space in between two strings. But not the space within two words of one string."
   ]
  },
  {
   "cell_type": "code",
   "execution_count": 10,
   "id": "japanese-simpson",
   "metadata": {},
   "outputs": [
    {
     "name": "stdout",
     "output_type": "stream",
     "text": [
      "[1] \"Hello How are you? \"\n",
      "[1] \"Hello-How-are you? \"\n",
      "[1] \"HelloHoware you? \"\n"
     ]
    }
   ],
   "source": [
    "a <- \"Hello\"\n",
    "b <- 'How'\n",
    "c <- \"are you? \"\n",
    "\n",
    "print(paste(a,b,c))\n",
    "\n",
    "print(paste(a,b,c, sep = \"-\"))\n",
    "\n",
    "print(paste(a,b,c, sep = \"\", collapse = \"\"))"
   ]
  },
  {
   "cell_type": "markdown",
   "id": "cordless-toddler",
   "metadata": {},
   "source": [
    "### Formatting numbers & strings - `format()` function\n",
    "Numbers and strings can be formatted to a specific style using `format()` function.\n",
    "\n",
    "**Syntax**\n",
    "\n",
    "The basic syntax for format function is −\n",
    "\n",
    "`format(x, digits, nsmall, scientific, width, justify = c(\"left\", \"right\", \"centre\", \"none\")) `\n",
    "\n",
    "Following is the description of the parameters used −\n",
    "\n",
    "- x is the vector input.\n",
    "\n",
    "- digits is the total number of digits displayed.\n",
    "\n",
    "- nsmall is the minimum number of digits to the right of the decimal point.\n",
    "\n",
    "- scientific is set to TRUE to display scientific notation.\n",
    "\n",
    "- width indicates the minimum width to be displayed by padding blanks in the beginning.\n",
    "\n",
    "- justify is the display of the string to left, right or center.\n",
    "\n"
   ]
  },
  {
   "cell_type": "code",
   "execution_count": 13,
   "id": "placed-richards",
   "metadata": {},
   "outputs": [
    {
     "name": "stdout",
     "output_type": "stream",
     "text": [
      "[1] \"23.1234568\"\n",
      "[1] \"6.000000e+00\" \"1.314521e+01\"\n",
      "[1] \"23.47000\"\n",
      "[1] \"6\"\n",
      "[1] \"  13.7\"\n",
      "[1] \"Hello   \"\n",
      "[1] \" Hello  \"\n"
     ]
    }
   ],
   "source": [
    "# Total number of digits displayed. Last digit rounded off.\n",
    "result <- format(23.123456789, digits = 9)\n",
    "print(result)\n",
    "\n",
    "# Display numbers in scientific notation.\n",
    "result <- format(c(6, 13.14521), scientific = TRUE)\n",
    "print(result)\n",
    "\n",
    "# The minimum number of digits to the right of the decimal point.\n",
    "result <- format(23.47, nsmall = 5)\n",
    "print(result)\n",
    "\n",
    "# Format treats everything as a string.\n",
    "result <- format(6)\n",
    "print(result)\n",
    "\n",
    "# Numbers are padded with blank in the beginning for width.\n",
    "result <- format(13.7, width = 6)\n",
    "print(result)\n",
    "\n",
    "# Left justify strings.\n",
    "result <- format(\"Hello\", width = 8, justify = \"l\")\n",
    "print(result)\n",
    "\n",
    "# Justfy string with center.\n",
    "result <- format(\"Hello\", width = 8, justify = \"c\")\n",
    "print(result)"
   ]
  },
  {
   "cell_type": "markdown",
   "id": "clear-monster",
   "metadata": {},
   "source": [
    "### Counting number of characters in a string - `nchar()` function\n",
    "This function counts the number of characters including spaces in a string.\n",
    "\n",
    "**Syntax**\n",
    "\n",
    "The basic syntax for `nchar()` function is −\n",
    "\n",
    "`nchar(x)`\n",
    "\n",
    "Following is the description of the parameters used −\n",
    "\n",
    "- x is the vector input.\n",
    "\n",
    "\n"
   ]
  },
  {
   "cell_type": "code",
   "execution_count": 15,
   "id": "atmospheric-remark",
   "metadata": {},
   "outputs": [
    {
     "name": "stdout",
     "output_type": "stream",
     "text": [
      "[1] 30\n"
     ]
    }
   ],
   "source": [
    "result <- nchar(\"Count the number of characters\")\n",
    "print(result)"
   ]
  },
  {
   "cell_type": "markdown",
   "id": "extensive-surgery",
   "metadata": {},
   "source": [
    "### Changing the case - `toupper()` & `tolower()` functions\n",
    "These functions change the case of characters of a string.\n",
    "\n",
    "**Syntax**\n",
    "\n",
    "The basic syntax for `toupper()` & `tolower()` function is −\n",
    "\n",
    "`toupper(x)\n",
    "tolower(x)`\n",
    "\n",
    "Following is the description of the parameters used −\n",
    "\n",
    "- x is the vector input."
   ]
  },
  {
   "cell_type": "code",
   "execution_count": 16,
   "id": "unauthorized-harbor",
   "metadata": {},
   "outputs": [
    {
     "name": "stdout",
     "output_type": "stream",
     "text": [
      "[1] \"CHANGING TO UPPER\"\n",
      "[1] \"changing to lower\"\n"
     ]
    }
   ],
   "source": [
    "# Changing to Upper case.\n",
    "result <- toupper(\"Changing To Upper\")\n",
    "print(result)\n",
    "\n",
    "# Changing to lower case.\n",
    "result <- tolower(\"Changing To Lower\")\n",
    "print(result)"
   ]
  },
  {
   "cell_type": "markdown",
   "id": "atlantic-physics",
   "metadata": {},
   "source": [
    "### Extracting parts of a string - substring() function\n",
    "This function extracts parts of a String.\n",
    "\n",
    "**Syntax**\n",
    "\n",
    "The basic syntax for `substring()` function is −\n",
    "\n",
    "`substring(x,first,last)`\n",
    "\n",
    "Following is the description of the parameters used −\n",
    "\n",
    "- x is the character vector input.\n",
    "\n",
    "- first is the position of the first character to be extracted.\n",
    "\n",
    "- last is the position of the last character to be extracted."
   ]
  },
  {
   "cell_type": "code",
   "execution_count": 17,
   "id": "seventh-brooks",
   "metadata": {},
   "outputs": [
    {
     "name": "stdout",
     "output_type": "stream",
     "text": [
      "[1] \"act\"\n"
     ]
    }
   ],
   "source": [
    "# Extract characters from 5th to 7th position.\n",
    "result <- substring(\"Extract\", 5, 7)\n",
    "print(result)"
   ]
  },
  {
   "cell_type": "code",
   "execution_count": null,
   "id": "lightweight-jewelry",
   "metadata": {},
   "outputs": [],
   "source": []
  }
 ],
 "metadata": {
  "kernelspec": {
   "display_name": "R",
   "language": "R",
   "name": "ir"
  },
  "language_info": {
   "codemirror_mode": "r",
   "file_extension": ".r",
   "mimetype": "text/x-r-source",
   "name": "R",
   "pygments_lexer": "r",
   "version": "3.5.1"
  }
 },
 "nbformat": 4,
 "nbformat_minor": 5
}
