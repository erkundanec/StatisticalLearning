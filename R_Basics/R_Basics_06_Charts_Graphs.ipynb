{
 "cells": [
  {
   "cell_type": "markdown",
   "id": "prescription-retro",
   "metadata": {},
   "source": [
    "# 1. R - Pie Charts\n",
    "\n",
    "R Programming language has numerous libraries to create charts and graphs. A pie-chart is a representation of values as slices of a circle with different colors. The slices are labeled and the numbers corresponding to each slice is also represented in the chart.\n",
    "\n",
    "In R, the pie chart is created using the `pie()` function which takes positive numbers as a vector input. The additional parameters are used to control labels, color, title etc.\n",
    "\n",
    "**Syntax**\n",
    "\n",
    "The basic syntax for creating a pie-chart using the R is −\n",
    "\n",
    "`pie(x, labels, radius, main, col, clockwise)`\n",
    "\n",
    "Following is the description of the parameters used −\n",
    "\n",
    "- `x` is a vector containing the numeric values used in the pie chart.\n",
    "\n",
    "- `labels` is used to give description to the slices.\n",
    "\n",
    "- `radius` indicates the radius of the circle of the pie chart.(value between −1 and +1).\n",
    "\n",
    "- `main` indicates the title of the chart.\n",
    "\n",
    "- `col` indicates the color palette.\n",
    "\n",
    "- `clockwise` is a logical value indicating if the slices are drawn clockwise or anti clockwise.\n",
    "\n",
    "**Example**\n",
    "\n",
    "A very simple pie-chart is created using just the input vector and labels. The below script will create and save the pie chart in the current R working directory."
   ]
  },
  {
   "cell_type": "code",
   "execution_count": 4,
   "id": "realistic-salem",
   "metadata": {},
   "outputs": [
    {
     "data": {
      "text/html": [
       "<strong>pdf:</strong> 2"
      ],
      "text/latex": [
       "\\textbf{pdf:} 2"
      ],
      "text/markdown": [
       "**pdf:** 2"
      ],
      "text/plain": [
       "pdf \n",
       "  2 "
      ]
     },
     "metadata": {},
     "output_type": "display_data"
    }
   ],
   "source": [
    "# Create data for the graph.\n",
    "x <- c(21, 62, 10, 53)\n",
    "labels <- c(\"London\", \"New York\", \"Singapore\", \"Mumbai\")\n",
    "\n",
    "# Give the chart file a name.\n",
    "png(file = \"city.png\")\n",
    "\n",
    "# Plot the chart.\n",
    "pie(x,labels)\n",
    "\n",
    "# Save the file.\n",
    "dev.off()"
   ]
  },
  {
   "cell_type": "markdown",
   "id": "above-entrepreneur",
   "metadata": {},
   "source": [
    "### Pie Chart Title and Colors\n",
    "We can expand the features of the chart by adding more parameters to the function. We will use parameter main to add a title to the chart and another parameter is col which will make use of rainbow colour pallet while drawing the chart. The length of the pallet should be same as the number of values we have for the chart. Hence we use length(x).\n",
    "\n",
    "**Example**\n",
    "\n",
    "The below script will create and save the pie chart in the current R working directory."
   ]
  },
  {
   "cell_type": "code",
   "execution_count": 5,
   "id": "promising-findings",
   "metadata": {},
   "outputs": [
    {
     "data": {
      "text/html": [
       "<strong>pdf:</strong> 2"
      ],
      "text/latex": [
       "\\textbf{pdf:} 2"
      ],
      "text/markdown": [
       "**pdf:** 2"
      ],
      "text/plain": [
       "pdf \n",
       "  2 "
      ]
     },
     "metadata": {},
     "output_type": "display_data"
    }
   ],
   "source": [
    "# Create data for the graph.\n",
    "x <- c(21, 62, 10, 53)\n",
    "labels <- c(\"London\", \"New York\", \"Singapore\", \"Mumbai\")\n",
    "\n",
    "# Give the chart file a name.\n",
    "png(file = \"city_title_colours.jpg\")\n",
    "\n",
    "# Plot the chart with title and rainbow color pallet.\n",
    "pie(x, labels, main = \"City pie chart\", col = rainbow(length(x)))\n",
    "\n",
    "# Save the file.\n",
    "dev.off()"
   ]
  },
  {
   "cell_type": "markdown",
   "id": "alien-engineer",
   "metadata": {},
   "source": [
    "### Slice Percentages and Chart Legend\n",
    "We can add slice percentage and a chart legend by creating additional chart variables."
   ]
  },
  {
   "cell_type": "code",
   "execution_count": 6,
   "id": "associate-cream",
   "metadata": {},
   "outputs": [
    {
     "data": {
      "text/html": [
       "<strong>pdf:</strong> 2"
      ],
      "text/latex": [
       "\\textbf{pdf:} 2"
      ],
      "text/markdown": [
       "**pdf:** 2"
      ],
      "text/plain": [
       "pdf \n",
       "  2 "
      ]
     },
     "metadata": {},
     "output_type": "display_data"
    }
   ],
   "source": [
    "# Create data for the graph.\n",
    "x <-  c(21, 62, 10,53)\n",
    "labels <-  c(\"London\",\"New York\",\"Singapore\",\"Mumbai\")\n",
    "\n",
    "piepercent<- round(100*x/sum(x), 1)\n",
    "\n",
    "# Give the chart file a name.\n",
    "png(file = \"city_percentage_legends.jpg\")\n",
    "\n",
    "# Plot the chart.\n",
    "pie(x, labels = piepercent, main = \"City pie chart\",col = rainbow(length(x)))\n",
    "legend(\"topright\", c(\"London\",\"New York\",\"Singapore\",\"Mumbai\"), cex = 0.8,\n",
    "   fill = rainbow(length(x)))\n",
    "\n",
    "# Save the file.\n",
    "dev.off()"
   ]
  },
  {
   "cell_type": "markdown",
   "id": "burning-touch",
   "metadata": {},
   "source": [
    "### 3D Pie Chart\n",
    "A pie chart with 3 dimensions can be drawn using additional packages. The package plotrix has a function called pie3D() that is used for this."
   ]
  },
  {
   "cell_type": "code",
   "execution_count": 8,
   "id": "heavy-scanner",
   "metadata": {},
   "outputs": [
    {
     "data": {
      "text/html": [
       "<strong>pdf:</strong> 2"
      ],
      "text/latex": [
       "\\textbf{pdf:} 2"
      ],
      "text/markdown": [
       "**pdf:** 2"
      ],
      "text/plain": [
       "pdf \n",
       "  2 "
      ]
     },
     "metadata": {},
     "output_type": "display_data"
    }
   ],
   "source": [
    "# Get the library.\n",
    "library(plotrix)\n",
    "\n",
    "# Create data for the graph.\n",
    "x <-  c(21, 62, 10,53)\n",
    "lbl <-  c(\"London\",\"New York\",\"Singapore\",\"Mumbai\")\n",
    "\n",
    "# Give the chart file a name.\n",
    "png(file = \"3d_pie_chart.jpg\")\n",
    "\n",
    "# Plot the chart.\n",
    "pie3D(x,labels = lbl,explode = 0.1, main = \"Pie Chart of Countries \")\n",
    "\n",
    "# Save the file.\n",
    "dev.off()"
   ]
  },
  {
   "cell_type": "markdown",
   "id": "external-veteran",
   "metadata": {},
   "source": [
    "# 2. R - Bar Charts"
   ]
  },
  {
   "cell_type": "markdown",
   "id": "graduate-credit",
   "metadata": {},
   "source": [
    "A bar chart represents data in rectangular bars with length of the bar proportional to the value of the variable. R uses the function barplot() to create bar charts. R can draw both vertical and Horizontal bars in the bar chart. In bar chart each of the bars can be given different colors.\n",
    "\n",
    "Syntax\n",
    "The basic syntax to create a bar-chart in R is −\n",
    "\n",
    "`barplot(H,xlab,ylab,main, names.arg,col)`\n",
    "\n",
    "Following is the description of the parameters used −\n",
    "\n",
    "- H is a vector or matrix containing numeric values used in bar chart.\n",
    "- xlab is the label for x axis.\n",
    "- ylab is the label for y axis.\n",
    "- main is the title of the bar chart.\n",
    "- names.arg is a vector of names appearing under each bar.\n",
    "- col is used to give colors to the bars in the graph."
   ]
  },
  {
   "cell_type": "markdown",
   "id": "lined-stevens",
   "metadata": {},
   "source": [
    "**Example**\n",
    "\n",
    "A simple bar chart is created using just the input vector and the name of each bar.\n",
    "\n",
    "The below script will create and save the bar chart in the current R working directory."
   ]
  },
  {
   "cell_type": "code",
   "execution_count": 9,
   "id": "copyrighted-healthcare",
   "metadata": {},
   "outputs": [
    {
     "data": {
      "text/html": [
       "<strong>pdf:</strong> 2"
      ],
      "text/latex": [
       "\\textbf{pdf:} 2"
      ],
      "text/markdown": [
       "**pdf:** 2"
      ],
      "text/plain": [
       "pdf \n",
       "  2 "
      ]
     },
     "metadata": {},
     "output_type": "display_data"
    }
   ],
   "source": [
    "# Create the data for the chart\n",
    "H <- c(7,12,28,3,41)\n",
    "\n",
    "# Give the chart file a name\n",
    "png(file = \"barchart.png\")\n",
    "\n",
    "# Plot the bar chart \n",
    "barplot(H)\n",
    "\n",
    "# Save the file\n",
    "dev.off()"
   ]
  },
  {
   "cell_type": "markdown",
   "id": "electrical-kruger",
   "metadata": {},
   "source": [
    "### Bar Chart Labels, Title and Colors\n",
    "\n",
    "The features of the bar chart can be expanded by adding more parameters. The main parameter is used to add title. The col parameter is used to add colors to the bars. The args.name is a vector having same number of values as the input vector to describe the meaning of each bar.\n",
    "\n",
    "**Example**\n",
    "\n",
    "The below script will create and save the bar chart in the current R working directory."
   ]
  },
  {
   "cell_type": "code",
   "execution_count": 10,
   "id": "alternative-access",
   "metadata": {},
   "outputs": [
    {
     "data": {
      "text/html": [
       "<strong>pdf:</strong> 2"
      ],
      "text/latex": [
       "\\textbf{pdf:} 2"
      ],
      "text/markdown": [
       "**pdf:** 2"
      ],
      "text/plain": [
       "pdf \n",
       "  2 "
      ]
     },
     "metadata": {},
     "output_type": "display_data"
    }
   ],
   "source": [
    "# Create the data for the chart\n",
    "H <- c(7,12,28,3,41)\n",
    "M <- c(\"Mar\",\"Apr\",\"May\",\"Jun\",\"Jul\")\n",
    "\n",
    "# Give the chart file a name\n",
    "png(file = \"barchart_months_revenue.png\")\n",
    "\n",
    "# Plot the bar chart \n",
    "barplot(H,names.arg=M,xlab=\"Month\",ylab=\"Revenue\",col=\"blue\",\n",
    "main=\"Revenue chart\",border=\"red\")\n",
    "\n",
    "# Save the file\n",
    "dev.off()"
   ]
  },
  {
   "cell_type": "markdown",
   "id": "broken-facing",
   "metadata": {},
   "source": [
    "### Group Bar Chart and Stacked Bar Chart\n",
    "We can create bar chart with groups of bars and stacks in each bar by using a matrix as input values.\n",
    "\n",
    "More than two variables are represented as a matrix which is used to create the group bar chart and stacked bar chart."
   ]
  },
  {
   "cell_type": "code",
   "execution_count": 11,
   "id": "potential-slovenia",
   "metadata": {},
   "outputs": [
    {
     "data": {
      "text/html": [
       "<strong>pdf:</strong> 2"
      ],
      "text/latex": [
       "\\textbf{pdf:} 2"
      ],
      "text/markdown": [
       "**pdf:** 2"
      ],
      "text/plain": [
       "pdf \n",
       "  2 "
      ]
     },
     "metadata": {},
     "output_type": "display_data"
    }
   ],
   "source": [
    "# Create the input vectors.\n",
    "colors = c(\"green\",\"orange\",\"brown\")\n",
    "months <- c(\"Mar\",\"Apr\",\"May\",\"Jun\",\"Jul\")\n",
    "regions <- c(\"East\",\"West\",\"North\")\n",
    "\n",
    "# Create the matrix of the values.\n",
    "Values <- matrix(c(2,9,3,11,9,4,8,7,3,12,5,2,8,10,11), nrow = 3, ncol = 5, byrow = TRUE)\n",
    "\n",
    "# Give the chart file a name\n",
    "png(file = \"barchart_stacked.png\")\n",
    "\n",
    "# Create the bar chart\n",
    "barplot(Values, main = \"total revenue\", names.arg = months, xlab = \"month\", ylab = \"revenue\", col = colors)\n",
    "\n",
    "# Add the legend to the chart\n",
    "legend(\"topleft\", regions, cex = 1.3, fill = colors)\n",
    "\n",
    "# Save the file\n",
    "dev.off()"
   ]
  },
  {
   "cell_type": "code",
   "execution_count": null,
   "id": "serial-musical",
   "metadata": {},
   "outputs": [],
   "source": []
  }
 ],
 "metadata": {
  "kernelspec": {
   "display_name": "R",
   "language": "R",
   "name": "ir"
  },
  "language_info": {
   "codemirror_mode": "r",
   "file_extension": ".r",
   "mimetype": "text/x-r-source",
   "name": "R",
   "pygments_lexer": "r",
   "version": "3.5.1"
  }
 },
 "nbformat": 4,
 "nbformat_minor": 5
}
