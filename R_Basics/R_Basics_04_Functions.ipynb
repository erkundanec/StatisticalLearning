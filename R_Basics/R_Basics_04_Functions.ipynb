{
 "cells": [
  {
   "cell_type": "markdown",
   "id": "higher-planning",
   "metadata": {},
   "source": [
    "# Functions\n",
    "A function is a set of statements organized together to perform a specific task. R has a large number of in-built functions and the user can create their own functions"
   ]
  },
  {
   "cell_type": "markdown",
   "id": "terminal-minute",
   "metadata": {},
   "source": [
    "In R, a function is an object so the R interpreter is able to pass control to the function, along with arguments that may be necessary for the function to accomplish the actions.\n",
    "\n",
    "The function in turn performs its task and returns control to the interpreter as well as any result which may be stored in other objects."
   ]
  },
  {
   "cell_type": "markdown",
   "id": "cardiac-linux",
   "metadata": {},
   "source": [
    "## Function Definition\n",
    "An R function is created by using the keyword function. The basic syntax of an R function definition is as follows −"
   ]
  },
  {
   "cell_type": "markdown",
   "id": "fancy-buffer",
   "metadata": {},
   "source": [
    "```function_name <- function(arg_1, arg_2, ...) {\n",
    "   Function body \n",
    "}```"
   ]
  },
  {
   "cell_type": "markdown",
   "id": "worldwide-ordinary",
   "metadata": {},
   "source": [
    "## Function Components\n",
    "The different parts of a function are −\n",
    "\n",
    "- **Function Name** − This is the actual name of the function. It is stored in R environment as an object with this name.\n",
    "\n",
    "- **Arguments** − An argument is a placeholder. When a function is invoked, you pass a value to the argument. Arguments are optional; that is, a function may contain no arguments. Also arguments can have default values.\n",
    "\n",
    "- **Function Body** − The function body contains a collection of statements that defines what the function does.\n",
    "\n",
    "- **Return Value** − The return value of a function is the last expression in the function body to be evaluated."
   ]
  },
  {
   "cell_type": "markdown",
   "id": "visible-album",
   "metadata": {},
   "source": [
    "R has many in-built functions which can be directly called in the program without defining them first. We can also create and use our own functions referred as user defined functions."
   ]
  },
  {
   "cell_type": "markdown",
   "id": "closing-mason",
   "metadata": {},
   "source": [
    "## Built-in Function\n",
    "Simple examples of in-built functions are `seq()`, `mean()`, `max()`, `sum(x)` and `paste(...)` etc. They are directly called by user written programs. You can refer most widely used R functions."
   ]
  },
  {
   "cell_type": "code",
   "execution_count": 1,
   "id": "tough-longitude",
   "metadata": {},
   "outputs": [
    {
     "name": "stdout",
     "output_type": "stream",
     "text": [
      " [1] 32 33 34 35 36 37 38 39 40 41 42 43 44\n",
      "[1] 53.5\n",
      "[1] 1526\n"
     ]
    }
   ],
   "source": [
    "# Create a sequence of numbers from 32 to 44.\n",
    "print(seq(32,44))\n",
    "\n",
    "# Find mean of numbers from 25 to 82.\n",
    "print(mean(25:82))\n",
    "\n",
    "# Find sum of numbers frm 41 to 68.\n",
    "print(sum(41:68))"
   ]
  },
  {
   "cell_type": "markdown",
   "id": "extraordinary-hamburg",
   "metadata": {},
   "source": [
    "## User-defined Function\n",
    "We can create user-defined functions in R. They are specific to what a user wants and once created they can be used like the built-in functions. Below is an example of how a function is created and used."
   ]
  },
  {
   "cell_type": "markdown",
   "id": "chicken-reservation",
   "metadata": {},
   "source": [
    "```# Create a function to print squares of numbers in sequence.\n",
    "new.function <- function(a) {\n",
    "   for(i in 1:a) {\n",
    "      b <- i^2\n",
    "      print(b)\n",
    "   }\n",
    "}```"
   ]
  },
  {
   "cell_type": "markdown",
   "id": "major-blanket",
   "metadata": {},
   "source": [
    "## Calling a Function"
   ]
  },
  {
   "cell_type": "code",
   "execution_count": 3,
   "id": "naughty-canal",
   "metadata": {},
   "outputs": [
    {
     "name": "stdout",
     "output_type": "stream",
     "text": [
      "[1] 1\n",
      "[1] 4\n",
      "[1] 9\n",
      "[1] 16\n",
      "[1] 25\n",
      "[1] 36\n"
     ]
    }
   ],
   "source": [
    "# Create a function to print squares of numbers in sequence.\n",
    "new.function <- function(a) {\n",
    "   for(i in 1:a) {\n",
    "      b <- i^2\n",
    "      print(b)\n",
    "   }\n",
    "}\n",
    "\n",
    "# Call the function new.function supplying 6 as an argument.\n",
    "new.function(6)"
   ]
  },
  {
   "cell_type": "markdown",
   "id": "dying-celtic",
   "metadata": {},
   "source": [
    "## Calling a Function without an Argument"
   ]
  },
  {
   "cell_type": "code",
   "execution_count": 4,
   "id": "devoted-mother",
   "metadata": {},
   "outputs": [
    {
     "name": "stdout",
     "output_type": "stream",
     "text": [
      "[1] 1\n",
      "[1] 4\n",
      "[1] 9\n",
      "[1] 16\n",
      "[1] 25\n"
     ]
    }
   ],
   "source": [
    "# Create a function without an argument.\n",
    "new.function <- function() {\n",
    "   for(i in 1:5) {\n",
    "      print(i^2)\n",
    "   }\n",
    "}\n",
    "\n",
    "# Call the function without supplying an argument.\n",
    "new.function()"
   ]
  },
  {
   "cell_type": "markdown",
   "id": "played-imaging",
   "metadata": {},
   "source": [
    "## Calling a Function with Argument Values (by position and by name)\n",
    "The arguments to a function call can be supplied in the same sequence as defined in the function or they can be supplied in a different sequence but assigned to the names of the arguments."
   ]
  },
  {
   "cell_type": "code",
   "execution_count": 5,
   "id": "clinical-malpractice",
   "metadata": {},
   "outputs": [
    {
     "name": "stdout",
     "output_type": "stream",
     "text": [
      "[1] 26\n",
      "[1] 58\n"
     ]
    }
   ],
   "source": [
    "# Create a function with arguments.\n",
    "new.function <- function(a,b,c) {\n",
    "   result <- a * b + c\n",
    "   print(result)\n",
    "}\n",
    "\n",
    "# Call the function by position of arguments.\n",
    "new.function(5,3,11)\n",
    "\n",
    "# Call the function by names of the arguments.\n",
    "new.function(a = 11, b = 5, c = 3)"
   ]
  },
  {
   "cell_type": "markdown",
   "id": "clean-planning",
   "metadata": {},
   "source": [
    "When we execute the above code, it produces the following result −"
   ]
  },
  {
   "cell_type": "markdown",
   "id": "existing-accent",
   "metadata": {},
   "source": [
    "## Calling a Function with Default Argument\n",
    "We can define the value of the arguments in the function definition and call the function without supplying any argument to get the default result. But we can also call such functions by supplying new values of the argument and get non default result."
   ]
  },
  {
   "cell_type": "code",
   "execution_count": 6,
   "id": "combined-performer",
   "metadata": {},
   "outputs": [
    {
     "name": "stdout",
     "output_type": "stream",
     "text": [
      "[1] 18\n",
      "[1] 45\n"
     ]
    }
   ],
   "source": [
    "# Create a function with arguments.\n",
    "new.function <- function(a = 3, b = 6) {\n",
    "   result <- a * b\n",
    "   print(result)\n",
    "}\n",
    "\n",
    "# Call the function without giving any argument.\n",
    "new.function()\n",
    "\n",
    "# Call the function with giving new values of the argument.\n",
    "new.function(9,5)"
   ]
  },
  {
   "cell_type": "markdown",
   "id": "imported-subscription",
   "metadata": {},
   "source": [
    "## Lazy Evaluation of Function\n",
    "Arguments to functions are evaluated lazily, which means so they are evaluated only when needed by the function body."
   ]
  },
  {
   "cell_type": "code",
   "execution_count": 9,
   "id": "existing-trademark",
   "metadata": {},
   "outputs": [
    {
     "name": "stdout",
     "output_type": "stream",
     "text": [
      "[1] 36\n",
      "[1] 6\n"
     ]
    },
    {
     "ename": "ERROR",
     "evalue": "Error in print(b): argument \"b\" is missing, with no default\n",
     "output_type": "error",
     "traceback": [
      "Error in print(b): argument \"b\" is missing, with no default\nTraceback:\n",
      "1. new.function(6)",
      "2. print(b)   # at line 5 of file <text>"
     ]
    }
   ],
   "source": [
    "# Create a function with arguments.\n",
    "new.function <- function(a, b) {\n",
    "   print(a^2)\n",
    "   print(a)\n",
    "   print(b)\n",
    "}\n",
    "\n",
    "# Evaluate the function without supplying one of the arguments.\n",
    "new.function(6)"
   ]
  },
  {
   "cell_type": "code",
   "execution_count": null,
   "id": "dental-consultation",
   "metadata": {},
   "outputs": [],
   "source": []
  }
 ],
 "metadata": {
  "kernelspec": {
   "display_name": "R",
   "language": "R",
   "name": "ir"
  },
  "language_info": {
   "codemirror_mode": "r",
   "file_extension": ".r",
   "mimetype": "text/x-r-source",
   "name": "R",
   "pygments_lexer": "r",
   "version": "3.5.1"
  }
 },
 "nbformat": 4,
 "nbformat_minor": 5
}
